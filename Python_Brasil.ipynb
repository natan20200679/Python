{
  "nbformat": 4,
  "nbformat_minor": 0,
  "metadata": {
    "colab": {
      "name": "Python Brasil.ipynb",
      "provenance": [],
      "toc_visible": true,
      "authorship_tag": "ABX9TyPLDvBU0X7qmm5vt21a4Kka",
      "include_colab_link": true
    },
    "kernelspec": {
      "name": "python3",
      "display_name": "Python 3"
    },
    "language_info": {
      "name": "python"
    }
  },
  "cells": [
    {
      "cell_type": "markdown",
      "metadata": {
        "id": "view-in-github",
        "colab_type": "text"
      },
      "source": [
        "<a href=\"https://colab.research.google.com/github/natan20200679/Python/blob/master/Python_Brasil.ipynb\" target=\"_parent\"><img src=\"https://colab.research.google.com/assets/colab-badge.svg\" alt=\"Open In Colab\"/></a>"
      ]
    },
    {
      "cell_type": "markdown",
      "metadata": {
        "id": "Homi7u-oPtp5"
      },
      "source": [
        "# ***Estrutura Sequêncial***"
      ]
    },
    {
      "cell_type": "markdown",
      "metadata": {
        "id": "fUZawB1gc_-H"
      },
      "source": [
        "1.Faça um Programa que mostre a mensagem \"Alo mundo\" na tela.\n"
      ]
    },
    {
      "cell_type": "code",
      "metadata": {
        "id": "s7lQVDumcNYW",
        "colab": {
          "base_uri": "https://localhost:8080/"
        },
        "outputId": "d905b8cb-e351-42d5-ea53-29efd6daafaf"
      },
      "source": [
        "print(\"Alo mundo\")"
      ],
      "execution_count": null,
      "outputs": [
        {
          "output_type": "stream",
          "text": [
            "Alo mundo\n"
          ],
          "name": "stdout"
        }
      ]
    },
    {
      "cell_type": "markdown",
      "metadata": {
        "id": "buLqEua3dPp1"
      },
      "source": [
        "2.Faça um Programa que peça um número e então mostre a mensagem o número informado foi [número].\n",
        "\n"
      ]
    },
    {
      "cell_type": "code",
      "metadata": {
        "id": "-uulB8feeG6R"
      },
      "source": [
        "n = input(\"Número?\\n\")\n",
        "print(\"O número informado foi\", n)"
      ],
      "execution_count": null,
      "outputs": []
    },
    {
      "cell_type": "markdown",
      "metadata": {
        "id": "65sujXB_8G4u"
      },
      "source": [
        "3.Faça um Programa que peça dois números e imprima a soma."
      ]
    },
    {
      "cell_type": "code",
      "metadata": {
        "id": "PKh9SPWO8LTw"
      },
      "source": [
        "a = int(input('Digite o primeiro número\\n'))\n",
        "b = int(input('Digite o segundo número\\n'))\n",
        "soma = a + b\n",
        "print('A soma dos 2 números é:', soma)"
      ],
      "execution_count": null,
      "outputs": []
    },
    {
      "cell_type": "markdown",
      "metadata": {
        "id": "5Vu6kkmCaxnr"
      },
      "source": [
        "4.Faça um Programa que peça as 4 notas bimestrais e mostre a média."
      ]
    },
    {
      "cell_type": "code",
      "metadata": {
        "id": "qwu-yAbabHzy"
      },
      "source": [
        "a = float(input('Digite a nota P1\\n'))\n",
        "b = float(input('Digite a nota P2\\n'))\n",
        "c = float(input('Digite a nota P3\\n'))\n",
        "d = float(input('Digite a nota P4\\n'))\n",
        "média = (a + b + c + d) / 4\n",
        "print(\"Média Bimestral\", média)"
      ],
      "execution_count": null,
      "outputs": []
    },
    {
      "cell_type": "markdown",
      "metadata": {
        "id": "KG36XqI6e5zW"
      },
      "source": [
        "5.Faça um Programa que converta metros para centímetros.\n"
      ]
    },
    {
      "cell_type": "code",
      "metadata": {
        "id": "7xa9HEAZe8rp"
      },
      "source": [
        "a = float(input('Digite o valor em metros\\n'))\n",
        "conv = float(a * 100)\n",
        "print('O valor digitado em cm é:', conv)"
      ],
      "execution_count": null,
      "outputs": []
    },
    {
      "cell_type": "markdown",
      "metadata": {
        "id": "Gbs_F0V0ryW4"
      },
      "source": [
        "6.Faça um Programa que peça o raio de um círculo, calcule e mostre sua área.\n"
      ]
    },
    {
      "cell_type": "code",
      "metadata": {
        "id": "LrC6xgY_r84g"
      },
      "source": [
        "import math\n",
        "a = float(input('Digite o valor do raio do círculo\\n'))\n",
        "S = float(math.pi * a ** 2)\n",
        "print('O valor da área do círculo é:', round(S, 2)) \n",
        "\n",
        "\"\"\" Neste caso, escolhi arredondar o valor de 'S' em 2 casas decimais usando 'round'. \"\"\""
      ],
      "execution_count": null,
      "outputs": []
    },
    {
      "cell_type": "markdown",
      "metadata": {
        "id": "gVIYl1DQAM8K"
      },
      "source": [
        "7.Faça um Programa que calcule a área de um quadrado, em seguida mostre o dobro desta área para o usuário.\n"
      ]
    },
    {
      "cell_type": "code",
      "metadata": {
        "id": "oSxTNg7pAtbX"
      },
      "source": [
        "l = float(input('Digite o valor do lado do quadrado\\n'))\n",
        "S = float(l ** 2)\n",
        "print('O valor do dobro da área do quadrado é:', round(2 * S, 2)) \n",
        "\n",
        "\"\"\" Neste caso, escolhi arredondar o valor de '2 * S' em 2 casas decimais usando 'round'. \"\"\""
      ],
      "execution_count": null,
      "outputs": []
    },
    {
      "cell_type": "markdown",
      "metadata": {
        "id": "qqffXJ5RB9AJ"
      },
      "source": [
        "8.Faça um Programa que pergunte quanto você ganha por hora e o número de horas trabalhadas no mês. Calcule e mostre o total do seu salário no referido mês.\n"
      ]
    },
    {
      "cell_type": "code",
      "metadata": {
        "id": "nX0DWG_TCE8x"
      },
      "source": [
        "ganho_hora = float(input('Quanto você ganha por hora trabalhada?\\n'))\n",
        "horas_mês = int(input('Quantas horas você trabalha num mẽs?\\n'))\n",
        "salário_mês = float(ganho_hora * horas_mês)\n",
        "print(f'O seu salário num mês é: R$ %.2f' % salário_mês) \n",
        "\n",
        "\"\"\" Neste caso, escolhi determinar o valor de 'salário_mês' com 2 casas decimais usando o argumento de string '%.<número de casas decimais>f'. \"\"\""
      ],
      "execution_count": null,
      "outputs": []
    },
    {
      "cell_type": "markdown",
      "metadata": {
        "id": "532MU3-V3S5b"
      },
      "source": [
        "9.Faça um Programa que peça a temperatura em graus Fahrenheit, transforme e mostre a temperatura em graus Celsius. \n",
        "\n",
        "  C = 5 * ((F-32) / 9). "
      ]
    },
    {
      "cell_type": "code",
      "metadata": {
        "id": "aVD8wYTz3qDZ"
      },
      "source": [
        "F = float(input('Temperatura em Fahrenheit:\\n'))\n",
        "C = float(5 * ((F - 32) / 9))\n",
        "print(f'A temperatura em Celsius é: %.1f' % C)"
      ],
      "execution_count": null,
      "outputs": []
    },
    {
      "cell_type": "markdown",
      "metadata": {
        "id": "YWQar1wn4xMC"
      },
      "source": [
        "10.Faça um Programa que peça a temperatura em graus Celsius, transforme e mostre em graus Fahrenheit. "
      ]
    },
    {
      "cell_type": "code",
      "metadata": {
        "id": "EmJII1cT49Rh"
      },
      "source": [
        "C = float(input('Temperatura em Celsius:\\n'))\n",
        "F = float((9 * C) + 160) / 5\n",
        "print(f'A temperatura em Fahrenheit é: %.1f' %F)"
      ],
      "execution_count": null,
      "outputs": []
    },
    {
      "cell_type": "markdown",
      "metadata": {
        "id": "6D_WLkc37FJE"
      },
      "source": [
        "11.Faça um Programa que peça 2 números inteiros e um número real. Calcule e mostre:\n",
        "\n",
        "    a. O produto do dobro do primeiro com metade do segundo.\n",
        "\n",
        "    b. A soma do triplo do primeiro com o terceiro.\n",
        "    \n",
        "    c. O terceiro elevado ao cubo. "
      ]
    },
    {
      "cell_type": "code",
      "metadata": {
        "id": "sKAf9Xmc70w5"
      },
      "source": [
        "num_1 = int(input('Primeiro valor:\\n'))\n",
        "num_2 = int(input('Segundo valor:\\n'))\n",
        "num_3 = float(input('Terceito valor:\\n'))\n",
        "a = ((2 * num_1) * (num_2 / 2))\n",
        "b = ((3 * num_1) + num_3)\n",
        "c = num_3 ** 3\n",
        "print(f'%0.f' % a)\n",
        "print(b)\n",
        "print(c)"
      ],
      "execution_count": null,
      "outputs": []
    },
    {
      "cell_type": "markdown",
      "metadata": {
        "id": "1kcB6DcG05A_"
      },
      "source": [
        "12.Tendo como dados de entrada a altura de uma pessoa, construa um algoritmo que calcule seu peso ideal, usando a seguinte fórmula: (72.7*altura) - 58 "
      ]
    },
    {
      "cell_type": "code",
      "metadata": {
        "id": "X4yhoCaH0-Cd"
      },
      "source": [
        "h = float(input('Digite a altura da pessoa:\\n'))\n",
        "p = float((72.7 * h) - 58)\n",
        "print(f'O peso ideal da pessoa é: %.2f' % p)"
      ],
      "execution_count": null,
      "outputs": []
    },
    {
      "cell_type": "markdown",
      "metadata": {
        "id": "9YqHf5Rr2n1I"
      },
      "source": [
        "13.Tendo como dado de entrada a altura (h) de uma pessoa, construa um algoritmo que calcule seu peso ideal, utilizando as seguintes fórmulas:\n",
        "\n",
        "    Para homens: (72.7*h) - 58\n",
        "    \n",
        "    Para mulheres: (62.1*h) - 44.7"
      ]
    },
    {
      "cell_type": "code",
      "metadata": {
        "id": "A62BKFdl2s18"
      },
      "source": [
        "h = float(input('Digite a altura da pessoa:\\n'))\n",
        "ph = float((72.7 * h) - 58)\n",
        "pm = float((62.1 * h) - 44.7)\n",
        "print(f'O peso ideal para homens é: %.2f' % ph)\n",
        "print(f'O peso ideal para mulheres é: %.2f' % pm)"
      ],
      "execution_count": null,
      "outputs": []
    },
    {
      "cell_type": "markdown",
      "metadata": {
        "id": "5AmJA3cWS7IH"
      },
      "source": [
        "14.João Papo-de-Pescador, homem de bem, comprou um microcomputador para controlar o rendimento diário de seu trabalho. Toda vez que ele traz um peso de peixes maior que o estabelecido pelo regulamento de pesca do estado de São Paulo (50 quilos), deve pagar uma multa de R$ 4,00 por quilo excedente. João precisa que você faça um programa que leia a variável peso (peso de peixes) e calcule o excesso. Gravar na variável excesso a quantidade de quilos além do limite e na variável multa o valor da multa que João deverá pagar. Imprima os dados do programa com as mensagens adequadas."
      ]
    },
    {
      "cell_type": "code",
      "metadata": {
        "id": "39OnV18SS_bn"
      },
      "source": [
        "p = float(input('Peso (Kg):\\n'))\n",
        "if p > 50:\n",
        "    print('Peso excessivo')\n",
        "    e = p - 50\n",
        "    print(f'Valor do excesso: %.2f' % e)\n",
        "    m = e * 4\n",
        "    print('Valor da multa(R$): %.2f' % m)"
      ],
      "execution_count": null,
      "outputs": []
    },
    {
      "cell_type": "markdown",
      "metadata": {
        "id": "5NdX5oVAiuhA"
      },
      "source": [
        "15.Faça um Programa que pergunte quanto você ganha por hora e o número de horas trabalhadas no mês. Calcule e mostre o total do seu salário no referido mês, sabendo-se que são descontados 11% para o Imposto de Renda, 8% para o INSS e 5% para o sindicato, faça um programa que nos dê:\n",
        "\n",
        "a. Salário bruto.\n",
        "\n",
        "b. Quanto pagou ao INSS.\n",
        "\n",
        "c. Quanto pagou ao sindicato.\n",
        "\n",
        "d. O salário líquido.\n",
        "\n",
        "calcule os descontos e o salário líquido, conforme a tabela abaixo:\n",
        "\n",
        "(+) Salário Bruto : R$\n",
        "\n",
        "(-) IR (11%) : R$\n",
        "\n",
        "(-) INSS (8%) : R$\n",
        "\n",
        "(-) Sindicato ( 5%) : R$\n",
        "\n",
        "(=) Salário Liquido : R$\n",
        "\n",
        "Obs.: Salário Bruto - Descontos = Salário Líquido."
      ]
    },
    {
      "cell_type": "code",
      "metadata": {
        "id": "Beh_vniAkvHs"
      },
      "source": [
        "ganho_hora = float(input('Quanto você ganha por hora trabalhada?\\n'))\n",
        "horas_mês = int(input('Quantas horas você trabalha num mẽs?\\n'))\n",
        "salário_bruto = float(ganho_hora * horas_mês)\n",
        "valor_ir = ((11 / 100) * salário_bruto)\n",
        "valor_inss = ((8 / 100) * salário_bruto)\n",
        "valor_sindicato = ((5 / 100) * salário_bruto)\n",
        "salário_líquido = salário_bruto - valor_sindicato - valor_inss - valor_ir\n",
        "print(f'Salário Bruto: R$ %.2f' % salário_bruto)\n",
        "print(f'Valor INSS: R$ %.2f' % valor_ir)\n",
        "print(f'Valor Sindicato: R$ %.2f' % valor_sindicato)\n",
        "print(f'Valor salário Líquido: R$ %.2f' % salário_líquido)"
      ],
      "execution_count": null,
      "outputs": []
    },
    {
      "cell_type": "markdown",
      "metadata": {
        "id": "ZThT92rw4Xnc"
      },
      "source": [
        "16.Faça um programa para uma loja de tintas. O programa deverá pedir o tamanho em metros quadrados da área a ser pintada. Considere que a cobertura da tinta é de 1 litro para cada 3 metros quadrados e que a tinta é vendida em latas de 18 litros, que custam R$ 80,00. Informe ao usuário a quantidades de latas de tinta a serem compradas e o preço total."
      ]
    },
    {
      "cell_type": "code",
      "metadata": {
        "id": "hoRbjOku4b1N",
        "colab": {
          "base_uri": "https://localhost:8080/"
        },
        "outputId": "669c9b8a-023b-4778-d2d7-1ec10a32ab15"
      },
      "source": [
        "\"\"\" volume  área\t\t        latas  volume  preço  área\n",
        "      1\t      3   \t          1       18     80    54\n",
        "    \t18      54\t     \t      L               P     S\n",
        "\n",
        "                             L = S / 54\n",
        "                             P = L * 80           \n",
        "\"\"\"\n",
        "\n",
        "S = float(input('Valor da área à pintar(m²):\\n'))\n",
        "\n",
        "if S <= 54:\n",
        "  print('Quantidade mínima de latas: 1')\n",
        "  print('Valor: R$ 80.00')\n",
        "if S > 54:\n",
        "  L = float(round((S / 54) + 0.5))\n",
        "  P = int(L * 80)\n",
        "  print('Número de latas: %.f' % L)\n",
        "  print('Preço total: R$', P)"
      ],
      "execution_count": null,
      "outputs": [
        {
          "output_type": "stream",
          "text": [
            "Valor da área à pintar(m²):\n",
            "60\n",
            "Número de latas: 2\n",
            "Preço total: R$ 160\n"
          ],
          "name": "stdout"
        }
      ]
    },
    {
      "cell_type": "markdown",
      "metadata": {
        "id": "NitfOu1Uznbk"
      },
      "source": [
        "17.Faça um Programa para uma loja de tintas. O programa deverá pedir o tamanho em metros quadrados da área a ser pintada. Considere que a cobertura da tinta é de 1 litro para cada 6 metros quadrados e que a tinta é vendida em latas de 18 litros, que custam 80,00 reais ou em galões de 3,6 litros, que custam R$ 25,00. Informe ao usuário as quantidades de tinta a serem compradas e os respectivos preços em 3 situações:\n",
        "\n",
        "\n",
        "*   comprar apenas latas de 18 litros;\n",
        "\n",
        "*   comprar apenas galões de 3,6 litros;\n",
        "\n",
        "\n",
        "*   misturar latas e galões, de forma que o desperdício de tinta seja menor. Acrescente 10% de folga e sempre arredonde os valores para cima, isto é, considere latas cheias.\n"
      ]
    },
    {
      "cell_type": "code",
      "metadata": {
        "id": "1eVzz6Ui0V-x"
      },
      "source": [
        "\"\"\" latas  volume  área     galões  volume  área\n",
        "      1      18               1       3.6\n",
        "              1      6                 1     6\n",
        "\n",
        "\n",
        "\"\"\"\n",
        "\n",
        "S = float(input('Valor da área à pintar(m²):\\n'))\n",
        "\n",
        "L = float(round((S / 108) + 0.5))\n",
        "PL = int(L * 80)\n",
        "print('Número de Latas(18 litros/Lata): %.f' % L)\n",
        "print('Preço Total das Latas: R$', PL)\n",
        "\n",
        "G = float(round((S / 21.6) + 0.5))\n",
        "PG = int(G * 25)\n",
        "print('Número de Galões(3,6 litros/Galão): %.f' % G)\n",
        "print('Preço Total dos Galões: R$', PG)"
      ],
      "execution_count": null,
      "outputs": []
    },
    {
      "cell_type": "markdown",
      "metadata": {
        "id": "CJ5eXQim69nK"
      },
      "source": [
        "18.Faça um programa que peça o tamanho de um arquivo para download (em MB) e a velocidade de um link de Internet (em Mbps), calcule e informe o tempo aproximado de download do arquivo usando este link (em minutos).\n"
      ]
    },
    {
      "cell_type": "code",
      "metadata": {
        "id": "n8U_1m-c7Bx1"
      },
      "source": [
        "\"\"\" v = T / t -> t = T / v = (MB * 8) / (Mb/s) = (Mb * s) / Mb = s = (1 / 60)m \"\"\"\n",
        "\n",
        "T = float(input('Tamanho do Arquivo para Download (MB):\\n'))\n",
        "v = float(input('Velocidade do Link (Mbps):\\n'))\n",
        "t = int((T / v) * (2 / 15))\n",
        "print('Tempo de Download (Min):', t)"
      ],
      "execution_count": null,
      "outputs": []
    },
    {
      "cell_type": "markdown",
      "metadata": {
        "id": "M-8qQ9dXQjNF"
      },
      "source": [
        "# ***Estrutura de Decisão***\n"
      ]
    },
    {
      "cell_type": "markdown",
      "metadata": {
        "id": "MGYHN7KROpPo"
      },
      "source": [
        "1.Faça um Programa que peça dois números e imprima o maior deles.\n"
      ]
    },
    {
      "cell_type": "code",
      "metadata": {
        "id": "seOc-NZeOsyJ"
      },
      "source": [
        "a = float(input('Valor 1:\\n'))\n",
        "b = float(input('Valor 2:\\n'))\n",
        "\n",
        "if a < b:\n",
        "  print('Valor Maior: %.f' % b)\n",
        "elif a > b:\n",
        "  print('Valor Maior: %.f' % a)\n",
        "else:\n",
        "  print('Valores de Mesma Amplitude!')"
      ],
      "execution_count": null,
      "outputs": []
    },
    {
      "cell_type": "markdown",
      "metadata": {
        "id": "j2sKO7QobZOw"
      },
      "source": [
        "2.Faça um Programa que peça um valor e mostre na tela se o valor é positivo ou negativo.\n"
      ]
    },
    {
      "cell_type": "code",
      "metadata": {
        "id": "BAWrWPb0bhp_"
      },
      "source": [
        "a = float(input('Valor:\\n'))\n",
        "if a < 0:\n",
        "  print('Valor Negativo')\n",
        "elif a > 0:\n",
        "  print('Valor Positivo')\n",
        "else:\n",
        "  print('Valor Central (Referência: -inf < Valor < +inf para Números Reais')"
      ],
      "execution_count": null,
      "outputs": []
    },
    {
      "cell_type": "markdown",
      "metadata": {
        "id": "Pe8N7XpndT30"
      },
      "source": [
        "3.Faça um Programa que verifique se uma letra digitada é \"F\" ou \"M\". Conforme a letra escrever: F - Feminino, M - Masculino, Sexo Inválido.\n"
      ]
    },
    {
      "cell_type": "code",
      "metadata": {
        "id": "OwqyoL7pdWqy",
        "colab": {
          "base_uri": "https://localhost:8080/"
        },
        "outputId": "8a465001-38e0-43aa-c38c-6cc851a089df"
      },
      "source": [
        "S = str((input('Digite o Sexo:\\n')))\n",
        "\n",
        "if S == 'F':\n",
        "  print('F - Feminino')\n",
        "elif S == 'M':\n",
        "  print('M - Masculino')"
      ],
      "execution_count": null,
      "outputs": [
        {
          "output_type": "stream",
          "text": [
            "Digite o Sexo:\n",
            "M\n",
            "M - Masculino\n"
          ],
          "name": "stdout"
        }
      ]
    },
    {
      "cell_type": "markdown",
      "metadata": {
        "id": "hs2piNWGgbgO"
      },
      "source": [
        "4.Faça um Programa que verifique se uma letra digitada é vogal ou consoante.\n"
      ]
    },
    {
      "cell_type": "code",
      "metadata": {
        "id": "p5QJbmO9ge37"
      },
      "source": [
        "S = str((input('Digite a Letra:\\n').lower()))\n",
        "\n",
        "if S == 'a' or S == 'e' or S == 'i' or S == 'o' or S == 'u':\n",
        "  print('A Letra é Vogal')\n",
        "else:\n",
        "  print('A letra é Consoante')"
      ],
      "execution_count": null,
      "outputs": []
    },
    {
      "cell_type": "markdown",
      "metadata": {
        "id": "osQkrY0Pm_xj"
      },
      "source": [
        "5.Faça um programa para a leitura de duas notas parciais de um aluno. O programa deve calcular a média alcançada por aluno e apresentar:\n",
        "\n",
        "* A mensagem \"Aprovado\", se a média alcançada for maior ou igual a sete;\n",
        "\n",
        "* A mensagem \"Reprovado\", se a média for menor do que sete;\n",
        "\n",
        "* A mensagem \"Aprovado com Distinção\", se a média for igual a dez."
      ]
    },
    {
      "cell_type": "code",
      "metadata": {
        "id": "zAS6fuHbnrAh"
      },
      "source": [
        "nota_1 = float(input('Nota 1:\\n'))\n",
        "nota_2 = float(input('Nota 2:\\n'))\n",
        "média = float((nota_1 + nota_2) / 2)\n",
        "\n",
        "if 7 <= média < 10:\n",
        "  print('Aprovado')\n",
        "elif média < 7:\n",
        "  print('Reprovado')\n",
        "if média == 10:\n",
        "  print('Aprovado com Distinção')"
      ],
      "execution_count": null,
      "outputs": []
    },
    {
      "cell_type": "markdown",
      "metadata": {
        "id": "Wtu-bsDFp9J7"
      },
      "source": [
        "6.Faça um Programa que leia três números e mostre o maior deles.\n"
      ]
    },
    {
      "cell_type": "code",
      "metadata": {
        "id": "HqgCsYSrqCEL"
      },
      "source": [
        "a = float(input('Valor 1:\\n'))\n",
        "b = float(input('Valor 2:\\n'))\n",
        "c = float(input('Valor 3:\\n'))\n",
        "\n",
        "if a < b:\n",
        "  print('Valor Maior: %.f' % b)\n",
        "elif a > b:\n",
        "  print('Valor Maior: %.f' % a)\n",
        "elif a < c:\n",
        "  print('Valor Maior: %.f' % c)\n",
        "elif a > c:\n",
        "  print('Valor Maior: %.f' % a)\n",
        "elif b < c:\n",
        "  print('Valor Maior: %.f' % c)\n",
        "elif b > c:\n",
        "  print('Valor Maior: %.f' % b)\n",
        "else:\n",
        "  print('Valores de Mesma Amplitude!')"
      ],
      "execution_count": null,
      "outputs": []
    },
    {
      "cell_type": "markdown",
      "metadata": {
        "id": "fg9AhGoVrXEd"
      },
      "source": [
        "7.Faça um Programa que leia três números e mostre o maior e o menor deles.\n"
      ]
    },
    {
      "cell_type": "code",
      "metadata": {
        "id": "y02-sgIVr0tb"
      },
      "source": [
        "a = float(input('Valor 1:\\n'))\n",
        "b = float(input('Valor 2:\\n'))\n",
        "c = float(input('Valor 3:\\n'))\n",
        "\n",
        "if a < b < c:\n",
        "  print('Valor Maior: %.f' % c)\n",
        "  print('Valor Menor: %.f' % a)\n",
        "elif b < a < c:\n",
        "  print('Valor Maior: %.f' % c)\n",
        "  print('Valor Menor: %.f' % b)\n",
        "elif c < b < a:\n",
        "  print('Valor Maior: %.f' % a)\n",
        "  print('Valor Menor: %.f' % c)\n",
        "elif b < c < a:\n",
        "  print('Valor Maior: %.f' % a)\n",
        "  print('Valor Menor: %.f' % b)\n",
        "else:\n",
        "  print('Valores de Mesma Amplitude!')"
      ],
      "execution_count": null,
      "outputs": []
    },
    {
      "cell_type": "markdown",
      "metadata": {
        "id": "cd7g2KfGwLbZ"
      },
      "source": [
        "8.Faça um programa que pergunte o preço de três produtos e informe qual produto você deve comprar, sabendo que a decisão é sempre pelo mais barato.\n"
      ]
    },
    {
      "cell_type": "code",
      "metadata": {
        "id": "2zcR7LN9wVaJ"
      },
      "source": [
        "P1 = float(input('Preço do Produto 1:\\n'))\n",
        "P2 = float(input('Preço do Produto 2:\\n'))\n",
        "P3 = float(input('Preço do Produto 3:\\n'))\n",
        "\n",
        "if P1 < P2 < P3:\n",
        "  not print('Preço Maior: %.2f' % P3)\n",
        "  print('Compra Sugerida: R$ %.2f' % P1)\n",
        "elif P2 < P1 < P3:\n",
        "  not print('5: %.2f' % P3)\n",
        "  print('Compra Sugerida: R$ %.2f' % P2)\n",
        "elif P3 < P2 < P1:\n",
        "  not print('Preço Maior: %.2f' % P1)\n",
        "  print('Compra Sugerida: R$ %.2f' % P3)\n",
        "elif P2 < P3 < P1:\n",
        "  not print('Preço Maior: %.2f' % P1)\n",
        "  print('Compra Sugerida: R$ %.2f' % P2)\n",
        "else:\n",
        "  print('Todos os Produtos Possuem o Mesmo Valor')"
      ],
      "execution_count": null,
      "outputs": []
    },
    {
      "cell_type": "markdown",
      "metadata": {
        "id": "YCPstocN5NCM"
      },
      "source": [
        "9.Faça um Programa que leia três números e mostre-os em ordem decrescente.\n"
      ]
    },
    {
      "cell_type": "code",
      "metadata": {
        "id": "FPfQCcbExEaA"
      },
      "source": [
        "a = float(input('Número 1:\\n'))\n",
        "b = float(input('Número 2:\\n'))\n",
        "c = float(input('Número 3:\\n'))\n",
        "\n",
        "if a < b < c:\n",
        "  print(c, b, a)\n",
        "elif b < a < c:\n",
        "  print(c, a, b)\n",
        "elif b < c < a:\n",
        "  print(a, c, b)\n",
        "elif b < a < c:\n",
        "  print(c, a, b)\n",
        "elif a < c < b:\n",
        "  print(b, c, a)\n",
        "elif c < a < b:\n",
        "  print(b, a, c)\n",
        "else:\n",
        "  print('2 ou 3 Números São Idênticos!')"
      ],
      "execution_count": null,
      "outputs": []
    },
    {
      "cell_type": "markdown",
      "metadata": {
        "id": "hGaVZ8MQxrxe"
      },
      "source": [
        "* *Solução Alternativa*\n",
        "\n"
      ]
    },
    {
      "cell_type": "code",
      "metadata": {
        "id": "QUZBsBsj5TbB"
      },
      "source": [
        "a = float(input('Número 1:\\n'))\n",
        "b = float(input('Número 2:\\n'))\n",
        "c = float(input('Número 3:\\n'))\n",
        "\n",
        "lista = []\n",
        "lista.append(round(a, 1))\n",
        "lista.append(round(b, 1))\n",
        "lista.append(round(c, 1))\n",
        "lista.sort(reverse = True)\n",
        "print(lista)"
      ],
      "execution_count": null,
      "outputs": []
    },
    {
      "cell_type": "markdown",
      "metadata": {
        "id": "hKh2FOutxAG1"
      },
      "source": [
        "10.Faça um Programa que pergunte em que turno você estuda. Peça para digitar M-matutino ou V-Vespertino ou N- Noturno. Imprima a mensagem \"Bom Dia!\", \"Boa Tarde!\" ou \"Boa Noite!\" ou \"Valor Inválido!\", conforme o caso.\n"
      ]
    },
    {
      "cell_type": "code",
      "metadata": {
        "id": "crQ15HixBbhk"
      },
      "source": [
        "turno = str(input('Qual turno você estuda?:\\n'))\n",
        "\n",
        "if turno == 'M':\n",
        "  print('Bom Dia!')\n",
        "elif turno == 'V':\n",
        "  print('Boa Tarde!')\n",
        "elif turno == 'N':\n",
        "  print('Boa Noite!') \n",
        "else:\n",
        "  print('Valor Inválido!')"
      ],
      "execution_count": null,
      "outputs": []
    },
    {
      "cell_type": "markdown",
      "metadata": {
        "id": "lR00izaLoa45"
      },
      "source": [
        "11.As Organizações Tabajara resolveram dar um aumento de salário aos seus colaboradores e lhe contraram para desenvolver o programa que calculará os reajustes.\n",
        "Faça um programa que recebe o salário de um colaborador e o reajuste segundo o seguinte critério, baseado no salário atual:\n",
        "\n",
        "* Salários até R$ 280,00 (incluindo) : aumento de 20%\n",
        "\n",
        "* Salários entre R$ 280,00 e R$ 700,00 : aumento de 15%\n",
        "\n",
        "* Salários entre R$ 700,00 e R$ 1500,00 : aumento de 10%\n",
        "\n",
        "* Salários de R$ 1500,00 em diante : aumento de 5% Após o aumento ser realizado, informe na tela:\n",
        "\n",
        "* O salário antes do reajuste;\n",
        "\n",
        "* O percentual de aumento aplicado;\n",
        "\n",
        "* O valor do aumento;\n",
        "\n",
        "* O novo salário, após o aumento.\n",
        "\n",
        "\n",
        "\n"
      ]
    },
    {
      "cell_type": "code",
      "metadata": {
        "id": "iC24MXN0k6Cl"
      },
      "source": [
        "salário = int(input('Salário do Colaborador:\\n'))\n",
        "\n",
        "if salário <= 280:\n",
        "  reajuste_perc = 20\n",
        "elif 280 < salário <= 700:\n",
        "  reajuste_perc = 15\n",
        "elif 700 < s <= 1500:\n",
        "  reajuste_perc = 10\n",
        "elif s > 1500:\n",
        "  reajuste_perc = 5\n",
        "\n",
        "reajuste = round(((reajuste_perc / 100) * salário), None)\n",
        "salário_reaj = salário + reajuste\n",
        "\n",
        "print('Salário do Colaborador: R$', salário)\n",
        "print('Reajuste:', reajuste_perc, '%')\n",
        "print('Reajuste: R$', reajuste)\n",
        "print('Salário Reajustado: R$', salário_reaj)"
      ],
      "execution_count": null,
      "outputs": []
    },
    {
      "cell_type": "markdown",
      "metadata": {
        "id": "md_XZyJitHbk"
      },
      "source": [
        "12.Faça um programa para o cálculo de uma folha de pagamento, sabendo que os descontos são do Imposto de Renda, que depende do salário bruto (conforme tabela abaixo) e 3% para o Sindicato e que o FGTS corresponde a 11% do Salário Bruto, mas não é descontado (é a empresa que deposita). O Salário Líquido corresponde ao Salário Bruto menos os descontos. O programa deverá pedir ao usuário o valor da sua hora e a quantidade de horas trabalhadas no mês.\n",
        "\n",
        "Desconto do IR:\n",
        "\n",
        "- Salário Bruto até 900 (inclusive) - isento\n",
        "\n",
        "- Salário Bruto até 1500 (inclusive) - desconto de 5%\n",
        "\n",
        "- Salário Bruto até 2500 (inclusive) - desconto de 10%\n",
        "\n",
        "- Salário Bruto acima de 2500 - desconto de 20% \n",
        "\n",
        "Imprima na tela as informações, dispostas conforme o exemplo abaixo. No exemplo o valor da hora é 5 e a quantidade de hora é 220.\n",
        "\n",
        "        Salário Bruto: (5 * 220)        : R$ 1100,00\n",
        "        (-) IR (5%)                     : R$   55,00  \n",
        "        (-) INSS ( 10%)                 : R$  110,00\n",
        "        FGTS (11%)                      : R$  121,00\n",
        "        Total de descontos              : R$  165,00\n",
        "        Salário Liquido                 : R$  935,00"
      ]
    },
    {
      "cell_type": "code",
      "metadata": {
        "id": "a2WWxA3qt4Kh"
      },
      "source": [
        "salário_hora = float(input('Salário / Hora (R$):\\n'))\n",
        "horas_mês = float(input('Horas / Mês:\\n'))\n",
        "salário_bruto = salário_hora * horas_mês\n",
        "desc_inss = ((10 / 100) * salário_bruto)\n",
        "desc_sind = ((3 / 100) * salário_bruto)\n",
        "fgts = ((11 / 100) * salário_bruto)\n",
        "desc = desc_inss + desc_ir + desc_sind\n",
        "salário_líquido = salário_bruto - desc\n",
        "\n",
        "if salário_bruto <= 900:\n",
        "  desc_ir = 0\n",
        "  print('IR Isento')\n",
        "elif 900 < salário_bruto <= 1500:\n",
        "  desc_ir = ((5 / 100) * salário_bruto)\n",
        "  print('Salário Bruto: R$ %.2f' % salário_bruto)\n",
        "  print('(-) IR: R$ %.2f' % desc_ir) \n",
        "  print('(-) INSS: R$ %.2f' % desc_inss)\n",
        "  print('(-) Sindicato: R$ %.2f' % desc_sind)\n",
        "  print('FGTS: R$ %.2f' % fgts)\n",
        "  print('Descontos: R$ %.2f' % desc)\n",
        "  print('Salário Líquido: R$ %.2f' % salário_líquido)\n",
        "elif 1500 < salário_bruto <= 2500:\n",
        "  desc_ir = ((10 / 100) * salário_bruto)\n",
        "  print('Salário Bruto: R$ %.2f' % salário_bruto)\n",
        "  print('(-) IR: R$ %.2f' % desc_ir)\n",
        "  print('(-) INSS: R$ %.2f' % desc_inss)\n",
        "  print('(-) Sindicato: R$ %.2f' % desc_sind)\n",
        "  print('FGTS: R$ %.2f' % fgts)\n",
        "  print('Descontos: R$ %.2f' % desc)\n",
        "  print('Salário Líquido: R$ %.2f' % salário_líquido)\n",
        "elif salário_bruto > 2500:\n",
        "  desc_ir = ((20 / 100) * salário_bruto)\n",
        "  print('Salário Bruto: R$ %.2f' % salário_bruto)\n",
        "  print('(-) IR: R$ %.2f' % desc_ir)\n",
        "  print('(-) INSS: R$ %.2f' % desc_inss)\n",
        "  print('(-) Sindicato: R$ %.2f' % desc_sind)\n",
        "  print('FGTS: R$ %.2f' % fgts)\n",
        "  print('Descontos: R$ %.2f' % desc)\n",
        "  print('Salário Líquido: R$ %.2f' % salário_líquido)"
      ],
      "execution_count": null,
      "outputs": []
    },
    {
      "cell_type": "markdown",
      "metadata": {
        "id": "WJPAAh2gtEcB"
      },
      "source": [
        "13.Faça um Programa que leia um número e exiba o dia correspondente da semana. (1-Domingo, 2- Segunda, etc.), se digitar outro valor deve aparecer valor inválido."
      ]
    },
    {
      "cell_type": "code",
      "metadata": {
        "id": "uckNJN7BtH5F"
      },
      "source": [
        "número = int(input('Digite o Número:\\n'))\n",
        "\n",
        "if número == 1:\n",
        "  print('1-Domingo')\n",
        "elif número == 2:\n",
        "  print('2-Segunda')\n",
        "elif número == 3:\n",
        "  print('3-Terça')\n",
        "elif número == 4:\n",
        "  print('4-Quarta')\n",
        "elif número == 5:\n",
        "  print('5-Quinta')\n",
        "elif número == 6:\n",
        "  print('6-Sexta')\n",
        "elif número == 7:\n",
        "  print('7-Sábado')\n",
        "else:\n",
        "  print('Valor Inválido')"
      ],
      "execution_count": null,
      "outputs": []
    },
    {
      "cell_type": "markdown",
      "metadata": {
        "id": "h46Zz8QTwSD6"
      },
      "source": [
        "14.Faça um programa que lê as duas notas parciais obtidas por um aluno numa disciplina ao longo de um semestre, e calcule a sua média. A atribuição de conceitos obedece à tabela abaixo:\n",
        "\n",
        "![image.png](data:image/png;base64,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)\n",
        "\n",
        "O algoritmo deve mostrar na tela as notas, a média, o conceito correspondente e a mensagem “APROVADO” se o conceito for A, B ou C ou “REPROVADO” se o conceito for D ou E.\n"
      ]
    },
    {
      "cell_type": "code",
      "metadata": {
        "id": "I2DCLeeKx4GN"
      },
      "source": [
        "nota_1 = float(input('Nota P1:\\n'))\n",
        "nota_2 = float(input('Nota P2:\\n'))\n",
        "média = (nota_1 + nota_2) / 2\n",
        "\n",
        "if 9 <= média <= 10:\n",
        "  conceito = 'A'\n",
        "  situação = 'APROVADO'\n",
        "elif 7.5 <= média < 9:\n",
        "  conceito = 'B'\n",
        "  situação = 'APROVADO'\n",
        "elif 6 <= média < 7.5:\n",
        "  conceito = 'C'\n",
        "  situação = 'APROVADO'\n",
        "elif 4 <= média < 6:\n",
        "  conceito = 'D'\n",
        "  situação = 'REPROVADO'\n",
        "elif 4 <= média < 0:\n",
        "  conceito = 'E'\n",
        "  situação = 'REPROVADO'\n",
        "\n",
        "print('Nota 1:', nota_1)\n",
        "print('Nota 2:', nota_2)\n",
        "print('Média:', média)\n",
        "print('Conceito:', conceito)\n",
        "print('Situação:', situação)"
      ],
      "execution_count": null,
      "outputs": []
    },
    {
      "cell_type": "markdown",
      "metadata": {
        "id": "Bm1hbmXp1Il6"
      },
      "source": [
        "15.Faça um Programa que peça os 3 lados de um triângulo. O programa deverá informar se os valores podem ser um triângulo. Indique, caso os lados formem um triângulo, se o mesmo é: equilátero, isósceles ou escaleno. Dicas:\n",
        "\n",
        "- Três lados formam um triângulo quando a soma de quaisquer dois lados for maior que o terceiro;\n",
        "\n",
        "- Triângulo Equilátero: três lados iguais;\n",
        "\n",
        "- Triângulo Isósceles: quaisquer dois lados iguais;\n",
        "\n",
        "- Triângulo Escaleno: três lados diferentes;\n"
      ]
    },
    {
      "cell_type": "code",
      "metadata": {
        "id": "RVPDejtH17j2"
      },
      "source": [
        "lado_1 = float(input('Lado 1:\\n'))\n",
        "lado_2 = float(input('Lado 2:\\n'))\n",
        "lado_3 = float(input('Lado 3:\\n'))\n",
        "\n",
        "if lado_1 == lado_2 == lado_3 == 0:\n",
        "  print('Valores não formam um Triângulo!')\n",
        "elif lado_1 == lado_2 == lado_3:\n",
        "  print('Triângulo Equilátero')\n",
        "elif lado_1 == lado_2 or lado_1 == lado_3 or lado_2 == lado_3:\n",
        "  print('Triângulo Isósceles')\n",
        "else:\n",
        "  print('Triângulo Escaleno')"
      ],
      "execution_count": null,
      "outputs": []
    },
    {
      "cell_type": "markdown",
      "metadata": {
        "id": "bsCRrZM9miE8"
      },
      "source": [
        "16.Faça um programa que calcule as raízes de uma equação do segundo grau, na forma ax² + bx + c. O programa deverá pedir os valores de a, b e c e fazer as consistências, informando ao usuário nas seguintes situações:\n",
        "\n",
        "* Se o usuário informar o valor de A igual a zero, a equação não é do segundo grau e o programa não deve fazer pedir os demais valores, sendo encerrado;\n",
        "\n",
        "* Se o delta calculado for negativo, a equação não possui raizes reais. Informe ao usuário e encerre o programa;\n",
        "\n",
        "* Se o delta calculado for igual a zero a equação possui apenas uma raiz real. Informe-a ao usuário;\n",
        "\n",
        "* Se o delta for positivo, a equação possui duas raiz reais. Informe-as ao usuário;"
      ]
    },
    {
      "cell_type": "code",
      "metadata": {
        "id": "BkBn6WH8nLU4"
      },
      "source": [
        "import math\n",
        "\n",
        "print('Equação ou Polinômio do 2° Grau: ax² + bx + c')\n",
        "\n",
        "a = float(input('Valor de a:\\n'))\n",
        "\n",
        "if a == 0:\n",
        "  print('O Polinômio não é do 2° Grau.')\n",
        "else:\n",
        "  b = float(input('Valor de b:\\n'))\n",
        "  c = float(input('Valor de c:\\n'))\n",
        "  delta = (b ** 2) - (4 * a * c)\n",
        "  if delta < 0:\n",
        "    print('Polinômio não possui Raízes Reais')\n",
        "  elif delta == 0:\n",
        "    x = - b / (2 * a)\n",
        "    print('O Polinômio possui 1 Raíz Real:', x)\n",
        "  else:\n",
        "    x1 = (- b + math.sqrt(delta)) / (2 * a)\n",
        "    x2 = (- b - math.sqrt(delta)) / (2 * a)\n",
        "    print('O Polinômio possui 2 Raízes Reais:', x1, 'e', x2)"
      ],
      "execution_count": null,
      "outputs": []
    },
    {
      "cell_type": "markdown",
      "metadata": {
        "id": "xYOr9haf_5sh"
      },
      "source": [
        "17.Faça um Programa que peça um número correspondente a um determinado ano e em seguida informe se este ano é ou não bissexto.\n"
      ]
    },
    {
      "cell_type": "code",
      "metadata": {
        "id": "cLsrvOxe__Qb"
      },
      "source": [
        "ano = int(input('Ano:\\n'))\n",
        "\n",
        "if ano % 4 == 0:\n",
        "  print('Ano Bissexto')\n",
        "else:\n",
        "  print('Ano Não Bissexto')"
      ],
      "execution_count": null,
      "outputs": []
    },
    {
      "cell_type": "markdown",
      "metadata": {
        "id": "wjJddn7JmFWR"
      },
      "source": [
        "18.Faça um Programa que peça uma data no formato dd/mm/aaaa e determine se a mesma é uma data válida."
      ]
    },
    {
      "cell_type": "code",
      "metadata": {
        "id": "P7CeDyBvmZ3P"
      },
      "source": [
        "dd = int(input('Dia (dd):\\n'))\n",
        "mm = int(input('Mês (mm):\\n'))\n",
        "aaaa = int(input('Ano (aaaa):\\n'))\n",
        "print('%02d' % dd,'/','%02d' % mm,'/',aaaa)\n",
        "\n",
        "if (mm == 1 or mm == 3 or mm == 5 or mm == 7 or mm == 8 or mm == 10 or mm == 12) \\\n",
        "    and (1 <= dd <= 31):\n",
        "  print('Data Válida')\n",
        "elif (mm == 4 or mm == 6 or mm == 9 or mm == 11) and (1 <= dd <= 30):\n",
        "  print('Data Válida')\n",
        "elif (mm == 2) and (1 <= dd <= 29) and (aaaa % 4 == 0):\n",
        "  print('Data Válida')\n",
        "elif (1 <= dd <= 28):\n",
        "  print('Data Válida')\n",
        "else:\n",
        "  print('Data Inválida')\n",
        "\n",
        "\"\"\" Na linha 4, adotei \"'%02d'\" para inserir 1 zero à esquerda no formato do dia e do mẽs. \"\"\""
      ],
      "execution_count": null,
      "outputs": []
    },
    {
      "cell_type": "markdown",
      "metadata": {
        "id": "MekC5ohW8yZ0"
      },
      "source": [
        "19.Faça um Programa que leia um número inteiro menor que 1000 e imprima a quantidade de centenas, dezenas e unidades do mesmo.\n",
        "Observando os termos no plural a colocação do \"e\", da vírgula entre outros. Exemplo:\n",
        "\n",
        "- 326 = 3 centenas, 2 dezenas e 6 unidades\n",
        "\n",
        "- 12 = 1 dezena e 2 unidades \n",
        "\n",
        "- Testar com: 326, 300, 100, 320, 310, 305, 301, 101, 311, 111, 25, 20, 10, 21, 11, 1, 7 e 16"
      ]
    },
    {
      "cell_type": "code",
      "metadata": {
        "id": "ORIV77yT8-P0"
      },
      "source": [
        "número = int(input('Número:\\n'))\n",
        "texto_núm = str(número)\n",
        "ordem = len(texto_núm)\n",
        "\n",
        "if ordem == 3:\n",
        "  centena = texto_núm[0:1]\n",
        "  dezena = texto_núm[1:2]\n",
        "  unidade = texto_núm[2:3]\n",
        "  print(texto_núm+'= '+centena+' centenas, '+dezena+' dezenas, '+unidade+' unidades')\n",
        "elif ordem == 2:\n",
        "  dezena = texto_núm[0:1]\n",
        "  unidade = texto_núm[1:2]\n",
        "  print(texto_núm+'= '+dezena+' dezenas, '+unidade+' unidades')\n",
        "elif ordem == 1:\n",
        "  unidade = texto_núm[0:1]\n",
        "  print(texto_núm+'= '+unidade+' unidades')"
      ],
      "execution_count": null,
      "outputs": []
    },
    {
      "cell_type": "markdown",
      "metadata": {
        "id": "wj1v6RhGMDr5"
      },
      "source": [
        "20.Faça um Programa para leitura de três notas parciais de um aluno. O programa deve calcular a média alcançada por aluno e apresentar:\n",
        "\n",
        "- A mensagem \"Aprovado\", se a média for maior ou igual a 7, com a respectiva média alcançada;\n",
        "\n",
        "- A mensagem \"Reprovado\", se a média for menor do que 7, com a respectiva média alcançada;\n",
        "\n",
        "- A mensagem \"Aprovado com Distinção\", se a média for igual a 10."
      ]
    },
    {
      "cell_type": "code",
      "metadata": {
        "id": "CR-JhvzvMW8z"
      },
      "source": [
        "n1 = float(input('Nota 1:\\n'))\n",
        "n2 = float(input('Nota 2:\\n'))\n",
        "n3 = float(input('Nota 3:\\n'))\n",
        "m = round((n1 + n2 + n3) / 3, 1)\n",
        "\n",
        "if m >= 7:\n",
        "  print(m, '->', 'Aprovado')\n",
        "elif m < 7:\n",
        "  print(m, '->', 'Reprovado')\n",
        "elif m == 10:\n",
        "  print('Aprovado com Distinção')"
      ],
      "execution_count": null,
      "outputs": []
    },
    {
      "cell_type": "markdown",
      "metadata": {
        "id": "ImmBUxULO2VS"
      },
      "source": [
        "21.Faça um Programa para um caixa eletrônico. O programa deverá perguntar ao usuário a valor do saque e depois informar quantas notas de cada valor serão fornecidas. As notas disponíveis serão as de 1, 5, 10, 50 e 100 reais. O valor mínimo é de 10 reais e o máximo de 600 reais. O programa não deve se preocupar com a quantidade de notas existentes na máquina.\n",
        "\n",
        "- Exemplo 1: Para sacar a quantia de 256 reais, o programa fornece duas notas de 100, uma nota de 50, uma nota de 5 e uma nota de 1;\n",
        "\n",
        "- Exemplo 2: Para sacar a quantia de 399 reais, o programa fornece três notas de 100, uma nota de 50, quatro notas de 10, uma nota de 5 e quatro notas de 1.\n"
      ]
    },
    {
      "cell_type": "code",
      "metadata": {
        "id": "U97K14oIPB4E"
      },
      "source": [
        "valor = int(input('Valor do Saque:\\n'))\n",
        "\n",
        "notas_100 = int(valor / 100)\n",
        "valor = valor % 100\n",
        "print('Notas de R$ 100,00 =', notas_100)\n",
        "\n",
        "notas_50 = int(valor / 50)\n",
        "valor = valor % 50\n",
        "print('Notas de R$ 50,00 =', notas_50)\n",
        "\n",
        "notas_10 = int(valor / 10)\n",
        "valor = valor % 10\n",
        "print('Notas de R$ 10,00 =', notas_10)\n",
        "\n",
        "notas_5 = int(valor / 5)\n",
        "valor = valor % 5\n",
        "print('Notas de R$ 5,00 =', notas_5)\n",
        "\n",
        "notas_1 = valor\n",
        "print('Notas de R$ 1,00 =', notas_1)"
      ],
      "execution_count": null,
      "outputs": []
    },
    {
      "cell_type": "markdown",
      "metadata": {
        "id": "qqrdHqIcb5UN"
      },
      "source": [
        "22.Faça um Programa que peça um número inteiro e determine se ele é par ou impar. Dica: utilize o operador módulo (resto da divisão).\n"
      ]
    },
    {
      "cell_type": "code",
      "metadata": {
        "id": "BwNrTKrgb-li"
      },
      "source": [
        "n = int(input('Número:\\n'))\n",
        "\n",
        "if n % 2 == 0:\n",
        "  print('Número Par')\n",
        "else:\n",
        "  print('Número Ímpar')"
      ],
      "execution_count": null,
      "outputs": []
    },
    {
      "cell_type": "markdown",
      "metadata": {
        "id": "Uj2YuGhAg-2b"
      },
      "source": [
        "23.Faça um Programa que peça um número e informe se o número é inteiro ou decimal. Dica: utilize uma função de arredondamento.\n"
      ]
    },
    {
      "cell_type": "code",
      "metadata": {
        "id": "ArE0aJ_qhDg8"
      },
      "source": [
        "n = input('Número:\\n')\n",
        "t = type(n)\n",
        "if t == '<class 'int'>':\n",
        "  print('Número Inteiro')\n",
        "elif t == '<class 'float'>':\n",
        "  print('Número Decimal')"
      ],
      "execution_count": null,
      "outputs": []
    },
    {
      "cell_type": "markdown",
      "metadata": {
        "id": "sxDAwIcwUwB_"
      },
      "source": [
        "24.Faça um Programa que leia 2 números e em seguida pergunte ao usuário qual operação ele deseja realizar. O resultado da operação deve ser acompanhado de uma frase que diga se o número é:\n",
        "\n",
        "- par ou ímpar;\n",
        "- positivo ou negativo;\n",
        "- inteiro ou decimal."
      ]
    },
    {
      "cell_type": "code",
      "metadata": {
        "id": "bScCrAwrVGlx"
      },
      "source": [
        "a = float(input('Número 1:\\n'))\n",
        "b = float(input('Número 2:\\n'))\n",
        "print('Qual Operação Aritmética Deseja?\\n')\n",
        "opção = str(input('1 - Adição \\ 2 - Subtração \\ 3 - Multiplicação \\ 4 - Divisão\\n'))\n",
        "\n",
        "if opção == 1:\n",
        "  resultado = a + b\n",
        "elif opção == 2:\n",
        "  resultado = a - b\n",
        "elif opção == 3:\n",
        "  resultado = a * b\n",
        "elif opção == 4:\n",
        "  resultado = a / b\n",
        "\n",
        "if (resultado) % 2 == 0:\n",
        "  print(resultado, 'Número Par')\n",
        "else:\n",
        "  print(resultado, 'Número Ímpar')\n",
        "\n",
        "if resultado >= 0:\n",
        "  print(resultado, 'Número Positivo')\n",
        "else:\n",
        "  print(resultado, 'Número Negativo')"
      ],
      "execution_count": null,
      "outputs": []
    },
    {
      "cell_type": "markdown",
      "metadata": {
        "id": "kMZaP-gRp5x_"
      },
      "source": [
        "25.Faça um programa que faça 5 perguntas para uma pessoa sobre um crime. As perguntas são:\n",
        "\n",
        "- \"Telefonou para a vítima?\"\n",
        "- \"Esteve no local do crime?\"\n",
        "- \"Mora perto da vítima?\"\n",
        "- \"Devia para a vítima?\"\n",
        "- \"Já trabalhou com a vítima?\" \n",
        "\n",
        "O programa deve no final emitir uma classificação sobre a participação da pessoa no crime. Se a pessoa responder positivamente a 2 questões ela deve ser classificada como \"Suspeita\", entre 3 e 4 como \"Cúmplice\" e 5 como \"Assassino\". Caso contrário, ele será classificado como \"Inocente\"."
      ]
    },
    {
      "cell_type": "code",
      "metadata": {
        "id": "TzCkYRkLrRyW"
      },
      "source": [
        "p1 = int(input('Telefonou para a vítima? (1-sim 0-não)\\n'))\n",
        "\n",
        "if p1 > 1:\n",
        "    print('Opção Inválida Digitada')\n",
        "    exit()\n",
        "\n",
        "p2 = int(input('Esteve no local do crime? (1-sim 0-não)\\n'))\n",
        "\n",
        "if p2 > 1:\n",
        "    print('Opção Inválida Digitada')\n",
        "    exit()\n",
        "\n",
        "p3 = int(input('Mora perto da vítima? (1-sim 0-não)\\n'))\n",
        "\n",
        "if p3 > 1:\n",
        "    print('Opção Inválida Digitada')\n",
        "    exit()\n",
        "\n",
        "p4 = int(input('Devia algo para a vítima? (1-sim 0-não)\\n'))\n",
        "\n",
        "if p4 > 1:\n",
        "    print('Opção Inválida Digitada')\n",
        "    exit()\n",
        "\n",
        "p5 = int(input('Já trabalhou com a vítima? (1-sim 0-não)\\n'))\n",
        "\n",
        "if p5 > 1:\n",
        "    print('Opção Inválida Digitada')\n",
        "    exit()\n",
        "\n",
        "r = p1 + p2 + p3 + p4 + p5\n",
        "\n",
        "if r == 2:\n",
        "    print('Suspeita')\n",
        "elif 3 <= r <= 4:\n",
        "    print('Cúmplice')\n",
        "elif r == 5:\n",
        "    print('Assassina')\n",
        "elif r < 2:\n",
        "    print('Inocente')"
      ],
      "execution_count": null,
      "outputs": []
    },
    {
      "cell_type": "markdown",
      "metadata": {
        "id": "XFu5LjSS8ALz"
      },
      "source": [
        "26.Um posto está vendendo combustíveis com a seguinte tabela de descontos:\n",
        "\n",
        "- Álcool: Até 20 litros, desconto de 3% por litro. Acima de 20 litros, desconto de 5% por litro.\n",
        "- Gasolina:\n",
        "Até 20 litros, desconto de 4% por litro. Acima de 20 litros, desconto de 6% por litro.\n",
        "\n",
        "Escreva um algoritmo que leia o número de litros vendidos, o tipo de combustível (codificado da seguinte forma: A-álcool, G-gasolina), calcule e imprima o valor a ser pago pelo cliente sabendo-se que o preço do litro da gasolina é R$ 2,50 e o preço do litro do álcool é R$ 1,90.\n",
        "\n",
        "\n"
      ]
    },
    {
      "cell_type": "code",
      "metadata": {
        "id": "NcngKcmo81xj"
      },
      "source": [
        "''' Álcool: \n",
        "Desconto = 1.90-((3/100)*1,90) -> Até 20l / = 1.90-((5/100)*1,90) -> Acima de 20l \n",
        "\n",
        "Gasolina: \n",
        "Desconto = 2.50-((4/100)*2.50) -> Até 20l / = 2.50-((6/100)*2,50) -> Acima de 20l '''\n",
        "\n",
        "c = str(input('A - álcool \\ G- gasolina\\n'))\n",
        "v = float(input('Volume (l):\\n'))\n",
        "\n",
        "if c == 'A':\n",
        "  if v <= 20:\n",
        "    p = 1.84 * v\n",
        "    print('Álcool: R$ %.2f' % p)\n",
        "  elif v > 20:\n",
        "    p = 1.80 * v\n",
        "    print('Álcool: R$ %.2f' % p)\n",
        "if c == 'G':\n",
        "  if v <= 20:\n",
        "    p = 2.40 * v\n",
        "    print('Gasolina: R$ %.2f' % p)\n",
        "  elif v > 20:\n",
        "    p = 2.35 * v\n",
        "    print('Gasolina: R$ %.2f' % p)"
      ],
      "execution_count": null,
      "outputs": []
    },
    {
      "cell_type": "markdown",
      "metadata": {
        "id": "n2y0Md-HQ6pq"
      },
      "source": [
        "27.Uma fruteira está vendendo frutas com a seguinte tabela de preços:\n",
        "\n",
        "![image.png](data:image/png;base64,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)\n",
        "\n",
        "Se o cliente comprar mais de 8 Kg em frutas ou o valor total da compra ultrapassar R$ 25,00, receberá ainda um desconto de 10% sobre este total. Escreva um algoritmo para ler a quantidade (em Kg) de morangos e a quantidade (em Kg) de maças adquiridas e escreva o valor a ser pago pelo cliente.\n"
      ]
    },
    {
      "cell_type": "code",
      "metadata": {
        "id": "gS2Wj4E5RTcZ"
      },
      "source": [
        "morangos = float(input('Quantidade Morangos (Kg):\\n'))\n",
        "maçãs = float(input('Quantidade Maçãs (Kg):\\n'))\n",
        "frutas = morangos + maçãs\n",
        "\n",
        "if frutas <= 5:\n",
        "  valor_morangos = 2.50 * morangos\n",
        "  valor_maçãs = 1.80 * maçãs\n",
        "  valor_frutas = valor_morangos + valor_maçãs\n",
        "  print('Valor Morangos: R$ %.2f' % valor_morangos)\n",
        "  print('Valor Maçãs: R$ %.2f' % valor_maçãs)\n",
        "  print('Valor frutas: R$ %.2f' % valor_frutas)\n",
        "elif 5 < frutas <= 8:\n",
        "  valor_morangos = 2.20 * morangos\n",
        "  valor_maçãs = 1.50 * maçãs\n",
        "  valor_frutas = valor_morangos + valor_maçãs\n",
        "  print('Valor Morangos: R$ %.2f' % valor_morangos)\n",
        "  print('Valor Maçãs: R$ %.2f' % valor_maçãs)\n",
        "  print('Valor Frutas: R$ %.2f' % valor_frutas)\n",
        "elif frutas > 8:\n",
        "  valor_morangos = 2.20 * morangos\n",
        "  valor_maçãs = 1.50 * maçãs\n",
        "  valor_frutas = valor_morangos + valor_maçãs\n",
        "  desc = (10 / 100) * valor_frutas\n",
        "  valor_frutas_desc = valor_frutas - desc\n",
        "  print('Valor Morangos: R$ %.2f' % valor_morangos)\n",
        "  print('Valor Maçãs: R$ %.2f' % valor_maçãs)\n",
        "  print('Valor Frutas: R$ %.2f' % valor_frutas_desc)"
      ],
      "execution_count": null,
      "outputs": []
    },
    {
      "cell_type": "markdown",
      "metadata": {
        "id": "q_t2NZyV_6zm"
      },
      "source": [
        "28.O Hipermercado Tabajara está com uma promoção de carnes que é imperdível. Confira:\n",
        "\n",
        "![image.png](data:image/png;base64,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)\n",
        "\n",
        "Para atender a todos os clientes, cada cliente poderá levar apenas um dos tipos de carne da promoção, porém não há limites para a quantidade de carne por cliente. Se compra for feita no cartão Tabajara o cliente receberá ainda um desconto de 5% sobre o total da compra. Escreva um programa que peça o tipo e a quantidade de carne comprada pelo usuário e gere um cupom fiscal, contendo as informações da compra: tipo e quantidade de carne, preço total, tipo de pagamento, valor do desconto e valor a pagar.\n"
      ]
    },
    {
      "cell_type": "code",
      "metadata": {
        "id": "VD47gGeNANiY"
      },
      "source": [
        "carne = int(input('Tipo da Carne: (1-Filé Duplo  2-Alcatra  3-Picanha)\\n'))\n",
        "\n",
        "if carne < 1 or carne > 3:\n",
        "  print('Opção Inválida')\n",
        "  exit()\n",
        "\n",
        "quant = float(input('Quantidade Carne (Kg):\\n'))\n",
        "\n",
        "if carne == 1:\n",
        "  tipo_carne = 'Filé Duplo'\n",
        "  if quant <= 5:\n",
        "    valor = 4.90 * quant\n",
        "  elif quant > 5:\n",
        "    valor = 5.80 * quant\n",
        "if carne == 2:\n",
        "  tipo_carne = 'Alcatra'\n",
        "  if quant <= 5:\n",
        "    valor = 5.90 * quant\n",
        "  elif quant > 5:\n",
        "    valor = 6.80 * quant\n",
        "if carne == 3:\n",
        "  tipo_carne = 'Picanha'\n",
        "  if quant <=5:\n",
        "    valor = 6.90 * quant\n",
        "  elif quant > 5:\n",
        "    valor = 7.80 * quant\n",
        "\n",
        "pagamento = int(input('Tipo Pagamento: (1-Cartão Tabajara  2-Outro)\\n'))\n",
        "\n",
        "if pagamento < 1 or pagamento > 2:\n",
        "  print('Opção Inválida')\n",
        "  exit()\n",
        "if pagamento == 1:\n",
        "  tipo_pagamento = 'Cartão Tabajara'\n",
        "  desc = (5 / 100) * valor\n",
        "  valor_desc = valor - desc\n",
        "if pagamento == 2:\n",
        "  tipo_pagamento = 'Outro'\n",
        "  desc = 0\n",
        "  valor_desc = valor\n",
        "print('Cupom Fiscal:')\n",
        "print('Tipo da Carne:', tipo_carne)\n",
        "print('Quantidade da Carne (Kg):', quant)\n",
        "print('Preço Total (R$): %.2f' % valor)\n",
        "print('Tipo de Pagamento:', tipo_pagamento)\n",
        "print('Valor do Desconto (R$): %.2f' % desc)\n",
        "print('Valor à Pagar (R$): %.2f' % valor_desc)"
      ],
      "execution_count": null,
      "outputs": []
    },
    {
      "cell_type": "markdown",
      "metadata": {
        "id": "3JcYUYIrD7yx"
      },
      "source": [
        "# ***Estrutura de Repetição***"
      ]
    },
    {
      "cell_type": "markdown",
      "metadata": {
        "id": "mQRsBv2PGE0a"
      },
      "source": [
        "1.Faça um programa que peça uma nota, entre zero e dez. Mostre uma mensagem caso o valor seja inválido e continue pedindo até que o usuário informe um valor válido. "
      ]
    },
    {
      "cell_type": "code",
      "metadata": {
        "id": "vSV3tpyfGJTV"
      },
      "source": [
        "n = float(input(\"Nota(0 -> 10):\\n\"))\n",
        "\n",
        "while n < 0 or n > 10:\n",
        "  print(\"Valor Inválido\")\n",
        "  break\n",
        "else:\n",
        "  print(\"Valor Válido\")"
      ],
      "execution_count": null,
      "outputs": []
    },
    {
      "cell_type": "markdown",
      "metadata": {
        "id": "LYGrGlBUIR4n"
      },
      "source": [
        "2.Faça um programa que leia um nome de usuário e a sua senha e não aceite a senha igual ao nome do usuário, mostrando uma mensagem de erro e voltando a pedir as informações. "
      ]
    },
    {
      "cell_type": "code",
      "metadata": {
        "id": "owDkXqzFJmX9"
      },
      "source": [
        "nome = input(\"Nome:\\n\")\n",
        "senha = input(\"Senha:\\n\")\n",
        "\n",
        "while nome == senha:\n",
        "  print(\"Nome e Senha têm que ser diferentes!\")\n",
        "  senha = input(\"Senha:\\n\")\n",
        "else:\n",
        "  print(\"Cadastro Aprovado\")"
      ],
      "execution_count": null,
      "outputs": []
    },
    {
      "cell_type": "markdown",
      "metadata": {
        "id": "iKQ13Yct_9eM"
      },
      "source": [
        "3.Faça um programa que leia e valide as seguintes informações:\n",
        "\n",
        "* Nome: maior que 3 caracteres;\n",
        "* Idade: entre 0 e 150;\n",
        "* Salário: maior que zero;\n",
        "* Sexo: 'f' ou 'm';\n",
        "* Estado Civil: 's', 'c', 'v', 'd';"
      ]
    },
    {
      "cell_type": "code",
      "metadata": {
        "id": "KG4fImn7BM09"
      },
      "source": [
        "nome = str(input(\"Nome(acima de 3 caracteres):\\n\"))\n",
        "while len(nome) <= 3:\n",
        "  print(\"Nome tem que ter acima de 3 caracteres!\")\n",
        "  nome = str(input(\"Nome(acima de 3 caracteres):\\n\"))\n",
        "\n",
        "idade = int(input(\"Idade:\\n\"))\n",
        "while idade < 0 or idade > 150:\n",
        "  print(\"Idade tem que ser entre 0 e 150!\")\n",
        "  idade = int(input(\"Idade:\\n\"))\n",
        "\n",
        "salario = float(input(\"Salário:\\n\"))\n",
        "while salario < 0:\n",
        "  print(\"Salário tem que ser valor positivo!\")\n",
        "  salario = float(input(\"Salário:\\n\"))\n",
        "\n",
        "sexo = str(input(\"Feminino(f) ou Masculino(m)?\\n\"))\n",
        "while sexo != 'f' and sexo != 'm':\n",
        "  print(\"Opção inválida. Escolha 'f' ou 'm'!\")\n",
        "  sexo = str(input(\"Feminino(f) ou Masculino(m)?\\n\"))\n",
        "\n",
        "est_civil = str(input(\"Solteiro(a)(s), Casado(a)(c), Viúvo(a)(v) ou Divorciado(d)?\\n\"))\n",
        "while est_civil != \"s\" and est_civil != \"c\" and est_civil != \"v\" and est_civil != \"d\":\n",
        "  print(\"Opção inválida. Escolha 's', 'c', 'v' ou 'd'!\")\n",
        "  est_civil = str(input(\"Solteiro(a)(s), Casado(a)(c), Viúvo(a)(v) ou Divorciado(d)?\\n\"))"
      ],
      "execution_count": null,
      "outputs": []
    },
    {
      "cell_type": "markdown",
      "metadata": {
        "id": "AD8G-v6-WQt7"
      },
      "source": [
        "4.Supondo que a população de um país A seja da ordem de 80000 habitantes com uma taxa anual de crescimento de 3% e que a população de B seja 200000 habitantes com uma taxa de crescimento de 1.5%. Faça um programa que calcule e escreva o número de anos necessários para que a população do país A ultrapasse ou iguale a população do país B, mantidas as taxas de crescimento.\n"
      ]
    },
    {
      "cell_type": "code",
      "metadata": {
        "id": "v3kPE24wWjp7"
      },
      "source": [
        "A = 80000\n",
        "B = 200000\n",
        "taxa_A = 0.030\n",
        "taxa_B = 0.015\n",
        "\n",
        "anos = 0\n",
        "while A < B:\n",
        "  anos += 1\n",
        "  A += int(A * taxa_A)\n",
        "  B += int(B * taxa_B)\n",
        "\n",
        "print(anos, \"são ncessários para a população do país A ser maior ou igual à do país B\")"
      ],
      "execution_count": null,
      "outputs": []
    },
    {
      "cell_type": "markdown",
      "metadata": {
        "id": "RLTqEGGomdYw"
      },
      "source": [
        "5.Altere o programa anterior permitindo ao usuário informar as populações e as taxas de crescimento iniciais. Valide a entrada e permita repetir a operação.\n"
      ]
    },
    {
      "cell_type": "code",
      "metadata": {
        "id": "MvNSuzgemh0z"
      },
      "source": [
        "A = int(input(\"População do Páis A:\\n\"))\n",
        "taxa_A = float(input(\"Taxa de Crescimento do Páis A (%):\\n\"))\n",
        "B = int(input(\"População do Páis B:\\n\"))\n",
        "taxa_B = float(input(\"Taxa de Crescimento do Páis B (%):\\n\"))\n",
        "\n",
        "anos = 0\n",
        "while A < B:\n",
        "  anos += 1\n",
        "  A += int(A * taxa_A / 100)\n",
        "  B += int(B * taxa_B / 100)\n",
        "\n",
        "print(anos, \"são ncessários para a população do país A ser maior ou igual à do país B\")"
      ],
      "execution_count": null,
      "outputs": []
    },
    {
      "cell_type": "markdown",
      "metadata": {
        "id": "Yo5QuTteok6W"
      },
      "source": [
        "6.Faça um programa que imprima na tela os números de 1 a 20, um abaixo do outro. Depois modifique o programa  para que ele mostre os números um ao lado do outro.\n"
      ]
    },
    {
      "cell_type": "code",
      "metadata": {
        "id": "CeqhGjEsopur"
      },
      "source": [
        "num = 0\n",
        "while num < 20:\n",
        "  num += 1\n",
        "  print(num) # Para mostrar os números na horizontal: print(num, end = ' ')"
      ],
      "execution_count": null,
      "outputs": []
    },
    {
      "cell_type": "markdown",
      "metadata": {
        "id": "H7PDOl8iuFN7"
      },
      "source": [
        "7.Faça um programa que leia 5 números e informe o maior número.\n"
      ]
    },
    {
      "cell_type": "code",
      "metadata": {
        "id": "3W2X4RsguJbU"
      },
      "source": [
        "quant = int(input(\"Quantidade de numeros à serem lidos:\\n\"))\n",
        "primeiro = int(input(\"Numero 1:\\n\"))\n",
        "\n",
        "num = 1\n",
        "maior = primeiro\n",
        "while num < quant:\n",
        "    num += 1\n",
        "    temp = int(input(\"Numero %d:\" % num))\n",
        "    if temp > maior:\n",
        "        maior = temp\n",
        "    \n",
        "print(\"Maior:\", maior)"
      ],
      "execution_count": null,
      "outputs": []
    },
    {
      "cell_type": "markdown",
      "metadata": {
        "id": "GqsXwtrh8RBB"
      },
      "source": [
        "8.Faça um programa que leia 5 números e informe a soma e a média dos números.\n"
      ]
    },
    {
      "cell_type": "code",
      "metadata": {
        "id": "ucqTUj07KhFo"
      },
      "source": [
        "quant = int(input(\"Quantidade de numeros à serem lidos:\\n\"))\n",
        "primeiro = int(input(\"Numero 1:\\n\"))\n",
        "\n",
        "num = 1\n",
        "soma = primeiro\n",
        "while num < quant:\n",
        "    num += 1\n",
        "    temp = int(input(\"Numero %d:\\n\" % num))\n",
        "    soma += temp\n",
        "\n",
        "media = soma / quant\n",
        "print(\"Soma:\", soma)\n",
        "print(\"Média: %.2f\" % media)"
      ],
      "execution_count": null,
      "outputs": []
    },
    {
      "cell_type": "markdown",
      "metadata": {
        "id": "PSSlEVTVkEr4"
      },
      "source": [
        "9.Faça um programa que imprima na tela apenas os números ímpares entre 1 e 50.\n"
      ]
    },
    {
      "cell_type": "code",
      "metadata": {
        "id": "GfHHeyfZkI-y"
      },
      "source": [
        "num = 0\n",
        "for num in range(1, 51):\n",
        "  if num % 2 == 1:\n",
        "    print(num) "
      ],
      "execution_count": null,
      "outputs": []
    },
    {
      "cell_type": "markdown",
      "metadata": {
        "id": "XGLIqGfZMZ3U"
      },
      "source": [
        "10.Faça um programa que receba dois números inteiros e gere os números inteiros que estão no intervalo compreendido por eles.\n"
      ]
    },
    {
      "cell_type": "code",
      "metadata": {
        "id": "CtVVwJ_TMdNH"
      },
      "source": [
        "n1 = int(input(\"Digite o primeiro número inteiro:\\n\"))\n",
        "n2 = int(input(\"Digite o segundo número inteiro (valor maior do que o primeiro):\\n\"))\n",
        "\n",
        "num = 0\n",
        "for num in range(n1 + 1, n2):\n",
        "  print(num) "
      ],
      "execution_count": null,
      "outputs": []
    },
    {
      "cell_type": "markdown",
      "metadata": {
        "id": "-yg4FPWZPkmz"
      },
      "source": [
        "11.Altere o programa anterior para mostrar no final a soma dos números.\n"
      ]
    },
    {
      "cell_type": "code",
      "metadata": {
        "id": "tpGUSjtsPqdP"
      },
      "source": [
        "n1 = int(input(\"Digite o primeiro número inteiro:\\n\"))\n",
        "n2 = int(input(\"Digite o segundo número inteiro (valor maior do que o primeiro):\\n\"))\n",
        "\n",
        "num = 0\n",
        "soma = 0\n",
        "for num in range(n1 + 1, n2):\n",
        "  soma += num\n",
        "\n",
        "print(soma) "
      ],
      "execution_count": null,
      "outputs": []
    },
    {
      "cell_type": "markdown",
      "metadata": {
        "id": "E5-Z7eSRUUBV"
      },
      "source": [
        "12.Desenvolva um gerador de tabuada, capaz de gerar a tabuada de qualquer número inteiro entre 1 e 10. O usuário deve informar de qual numero ele deseja ver a tabuada. A saída deve ser conforme o exemplo abaixo:\n",
        "\n",
        "![image.png](data:image/png;base64,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)\n"
      ]
    },
    {
      "cell_type": "code",
      "metadata": {
        "id": "UdM1tlQbUexu"
      },
      "source": [
        "valor_tab = int(input(\"De qual número deseja a tabuada?\\n\"))\n",
        "\n",
        "for num in range(10):\n",
        "  print(\"%d x %d = %d\" % (valor_tab, num + 1, valor_tab * (num + 1)))"
      ],
      "execution_count": null,
      "outputs": []
    },
    {
      "cell_type": "markdown",
      "metadata": {
        "id": "GQaWKslyWD7K"
      },
      "source": [
        "13.Faça um programa que peça dois números, base e expoente, calcule e mostre o primeiro número elevado ao segundo número. Não utilize a função de potência da linguagem.\n"
      ]
    },
    {
      "cell_type": "code",
      "metadata": {
        "id": "_Sn3XQeQWSHm"
      },
      "source": [
        "b = int(input(\"Base numérica:\\n\"))\n",
        "e = int(input(\"Expoente numérico:\\n\"))\n",
        "\n",
        "p = 1\n",
        "c = 1\n",
        "\n",
        "while c <= e:\n",
        "  p *= b\n",
        "  c += 1\n",
        "\n",
        "print(b,\"^\",e,\"=\",p)"
      ],
      "execution_count": null,
      "outputs": []
    },
    {
      "cell_type": "markdown",
      "metadata": {
        "id": "VWREqVoLglJU"
      },
      "source": [
        "14.Faça um programa que peça 10 números inteiros, calcule e mostre a quantidade de números pares e a quantidade de números impares.\n"
      ]
    },
    {
      "cell_type": "code",
      "metadata": {
        "id": "oZJVGyOMhEbi"
      },
      "source": [
        "quant = int(input(\"Digite a quantidade de números:\\n\"))\n",
        "pares = 0\n",
        "impares = 0\n",
        "\n",
        "for num in range(0, quant):\n",
        "  if num % 2 == 0:\n",
        "    pares += 1\n",
        "    num += 1\n",
        "  else:\n",
        "    impares += 1\n",
        "    num += 1\n",
        "\n",
        "print(\"Números Pares:\", pares)\n",
        "print(\"Números Ímpares:\", impares)"
      ],
      "execution_count": null,
      "outputs": []
    },
    {
      "cell_type": "markdown",
      "metadata": {
        "id": "zXAMN5GPkaUG"
      },
      "source": [
        "15.A série de Fibonacci é formada pela seqüência 1,1,2,3,5,8,13,21,34,55,...Faça um programa capaz de gerar a série até o n−ésimo termo.\n"
      ]
    },
    {
      "cell_type": "code",
      "metadata": {
        "id": "jekNuI2XwqJl"
      },
      "source": [
        "# Este programa gera a série na horizontal\n",
        "\n",
        "n = int(input(\"Posição do N-ésimo Termo:\"))\n",
        "ultimo = 1\n",
        "termo = 1\n",
        "separador = \",\"\n",
        "print(ultimo, end = separador)\n",
        "cont = 2\n",
        "\n",
        "while cont <= n:\n",
        "  if cont == n:\n",
        "    separador = \"\\n\"\n",
        "  print(termo, end = separador)\n",
        "  termo, ultimo = termo + ultimo, termo\n",
        "  cont += 1"
      ],
      "execution_count": null,
      "outputs": []
    },
    {
      "cell_type": "code",
      "metadata": {
        "id": "fg6ZLeB0P3k2"
      },
      "source": [
        "# Este programa gera a série na vertical\n",
        "\n",
        "n = int(input(\"Posição do N-ésimo Termo:\"))\n",
        "penultimo = 1\n",
        "ultimo = 1\n",
        "cont = 1\n",
        "\n",
        "while cont <= n:\n",
        "   print(penultimo)\n",
        "   proximo = ultimo + penultimo\n",
        "   penultimo = ultimo\n",
        "   ultimo = proximo\n",
        "\n",
        "   cont += 1"
      ],
      "execution_count": null,
      "outputs": []
    },
    {
      "cell_type": "markdown",
      "metadata": {
        "id": "Kf59w8kYTb5C"
      },
      "source": [
        "16.A série de Fibonacci é formada pela seqüência 0,1,1,2,3,5,8,13,21,34,55,... Faça um programa que gere a série até que o valor seja maior que 500.\n"
      ]
    },
    {
      "cell_type": "code",
      "metadata": {
        "id": "S4eZqyoCTfAO"
      },
      "source": [
        "# Este programa gera a série na horizontal\n",
        "\n",
        "ultimo = 0\n",
        "termo = 1\n",
        "separador = \",\"\n",
        "print(ultimo, end = separador)\n",
        "cont = 2\n",
        "\n",
        "while cont <= 16:\n",
        "  if cont == 16:\n",
        "    separador = \"\\n\"\n",
        "  print(termo, end = separador)\n",
        "  termo, ultimo = termo + ultimo, termo\n",
        "  cont += 1"
      ],
      "execution_count": null,
      "outputs": []
    },
    {
      "cell_type": "markdown",
      "metadata": {
        "id": "zGl_G1ebVXQp"
      },
      "source": [
        "17.Faça um programa que calcule o fatorial de um número inteiro fornecido pelo usuário. Ex.: 5!=5.4.3.2.1=120\n"
      ]
    },
    {
      "cell_type": "code",
      "metadata": {
        "id": "dhTmdOqYVa8o"
      },
      "source": [
        "n = int(input(\"Digite um número inteiro:\\n\"))\n",
        "fatorial = 1\n",
        "cont = 1\n",
        "\n",
        "while n >= cont:\n",
        "  fatorial *= cont\n",
        "  cont += 1\n",
        "\n",
        "print(\"n! = %s! =\" %n, fatorial) # Foi utilizada a formatação com \"%\" para imprimir \"n!\" ao invés de \"n !\""
      ],
      "execution_count": null,
      "outputs": []
    },
    {
      "cell_type": "markdown",
      "metadata": {
        "id": "dgkVT5mQ6pae"
      },
      "source": [
        "18.Faça um programa que, dado um conjunto de N números, determine o menor valor, o maior valor e a soma dos valores.\n"
      ]
    },
    {
      "cell_type": "code",
      "metadata": {
        "id": "z_kPkoEO6tP6"
      },
      "source": [
        "N = int(input(\"Digite a quantidade de números:\\n\"))\n",
        "cont = 0\n",
        "maior = 0\n",
        "menor = 0\n",
        "\n",
        "while cont != N:\n",
        "    n = int(input(\"Digite um numero:\"))\n",
        "    cont += 1\n",
        "    \n",
        "    if cont == 1:\n",
        "       maior = n\n",
        "       menor = n\n",
        "    else:\n",
        "        if n > maior:\n",
        "            maior = n\n",
        "        if n < menor:\n",
        "            menor = n\n",
        "\n",
        "soma = maior + menor\n",
        "print(f'O MAIOR número digitado foi {maior}.')\n",
        "print(f'O MENOR número digitado foi {menor}.')\n",
        "print(f'A SOMA dos valores é {soma}.')"
      ],
      "execution_count": null,
      "outputs": []
    },
    {
      "cell_type": "markdown",
      "metadata": {
        "id": "1oLyd6AwA5Qb"
      },
      "source": [
        "19.Altere o programa anterior para que ele aceite apenas números entre 0 e 1000.\n"
      ]
    },
    {
      "cell_type": "code",
      "metadata": {
        "id": "s2X4hZnxJ_2d"
      },
      "source": [
        "N = int(input(\"Digite a quantidade de números:\"))\n",
        "cont = 0\n",
        "maior = 0\n",
        "menor = 0\n",
        "\n",
        "while cont != N:\n",
        "  n = int(input(\"Digite um numero:\"))\n",
        "\n",
        "  if n < 0 or n > 1000:\n",
        "    print(\"O número tem que ser entre 0 e 1000!\")\n",
        "    n = int(input(\"Digite um numero:\"))\n",
        "  \n",
        "  cont += 1\n",
        "  \n",
        "  if cont == 1:\n",
        "    maior = n\n",
        "    menor = n\n",
        "  else:\n",
        "    if n > maior:\n",
        "      maior = n\n",
        "    if n < menor:\n",
        "      menor = n\n",
        "\n",
        "print(f'O MAIOR número digitado foi {maior}.')\n",
        "print(f'O MENOR número digitado foi {menor}.')"
      ],
      "execution_count": null,
      "outputs": []
    },
    {
      "cell_type": "markdown",
      "metadata": {
        "id": "F9zAhM4q3_ee"
      },
      "source": [
        "20.Altere o programa de cálculo do fatorial, permitindo ao usuário calcular o fatorial várias vezes e limitando o fatorial a números inteiros positivos e menores que 16.\n"
      ]
    },
    {
      "cell_type": "code",
      "metadata": {
        "id": "yk3WCTnE41Nk"
      },
      "source": [
        "while True:\n",
        "  n = int(input(\"Digite um número inteiro:\"))\n",
        "  if not 0 < n < 16:\n",
        "    continue\n",
        "  fatorial = 1\n",
        "  for i in range (n, 1, -1):\n",
        "    fatorial *= i  \n",
        "  print(\"n! = %s! =\" %n, fatorial)\n",
        "  if input(\"Continuar?(s/n) \") != \"s\":\n",
        "    break "
      ],
      "execution_count": null,
      "outputs": []
    },
    {
      "cell_type": "markdown",
      "metadata": {
        "id": "aO54Ic_SBwhp"
      },
      "source": [
        "21.Faça um programa que peça um número inteiro e determine se ele é ou não um número primo. Um número primo é aquele que é divisível somente por ele mesmo e por 1.\n"
      ]
    },
    {
      "cell_type": "code",
      "metadata": {
        "id": "iP24hBoxB1WN"
      },
      "source": [
        ""
      ],
      "execution_count": null,
      "outputs": []
    }
  ]
}
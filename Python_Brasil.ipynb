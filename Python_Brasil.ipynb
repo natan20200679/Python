{
  "nbformat": 4,
  "nbformat_minor": 0,
  "metadata": {
    "colab": {
      "name": "Python Brasil.ipynb",
      "provenance": [],
      "toc_visible": true,
      "authorship_tag": "ABX9TyNS1HRKz5q19kDuhY0IjJwA",
      "include_colab_link": true
    },
    "kernelspec": {
      "name": "python3",
      "display_name": "Python 3"
    },
    "language_info": {
      "name": "python"
    }
  },
  "cells": [
    {
      "cell_type": "markdown",
      "metadata": {
        "id": "view-in-github",
        "colab_type": "text"
      },
      "source": [
        "<a href=\"https://colab.research.google.com/github/natan20200679/Python/blob/master/Python_Brasil.ipynb\" target=\"_parent\"><img src=\"https://colab.research.google.com/assets/colab-badge.svg\" alt=\"Open In Colab\"/></a>"
      ]
    },
    {
      "cell_type": "markdown",
      "metadata": {
        "id": "Homi7u-oPtp5"
      },
      "source": [
        "# ***Estrutura Sequêncial***"
      ]
    },
    {
      "cell_type": "markdown",
      "metadata": {
        "id": "fUZawB1gc_-H"
      },
      "source": [
        "1.Faça um Programa que mostre a mensagem \"Alo mundo\" na tela.\n"
      ]
    },
    {
      "cell_type": "code",
      "metadata": {
        "id": "s7lQVDumcNYW",
        "colab": {
          "base_uri": "https://localhost:8080/"
        },
        "outputId": "d905b8cb-e351-42d5-ea53-29efd6daafaf"
      },
      "source": [
        "print(\"Alo mundo\")"
      ],
      "execution_count": null,
      "outputs": [
        {
          "output_type": "stream",
          "text": [
            "Alo mundo\n"
          ],
          "name": "stdout"
        }
      ]
    },
    {
      "cell_type": "markdown",
      "metadata": {
        "id": "buLqEua3dPp1"
      },
      "source": [
        "2.Faça um Programa que peça um número e então mostre a mensagem o número informado foi [número].\n",
        "\n"
      ]
    },
    {
      "cell_type": "code",
      "metadata": {
        "id": "-uulB8feeG6R"
      },
      "source": [
        "n = input(\"Número?\\n\")\n",
        "print(\"O número informado foi\", n)"
      ],
      "execution_count": null,
      "outputs": []
    },
    {
      "cell_type": "markdown",
      "metadata": {
        "id": "65sujXB_8G4u"
      },
      "source": [
        "3.Faça um Programa que peça dois números e imprima a soma."
      ]
    },
    {
      "cell_type": "code",
      "metadata": {
        "id": "PKh9SPWO8LTw"
      },
      "source": [
        "a = int(input('Digite o primeiro número\\n'))\n",
        "b = int(input('Digite o segundo número\\n'))\n",
        "soma = a + b\n",
        "print('A soma dos 2 números é:', soma)"
      ],
      "execution_count": null,
      "outputs": []
    },
    {
      "cell_type": "markdown",
      "metadata": {
        "id": "5Vu6kkmCaxnr"
      },
      "source": [
        "4.Faça um Programa que peça as 4 notas bimestrais e mostre a média."
      ]
    },
    {
      "cell_type": "code",
      "metadata": {
        "id": "qwu-yAbabHzy"
      },
      "source": [
        "a = float(input('Digite a nota P1\\n'))\n",
        "b = float(input('Digite a nota P2\\n'))\n",
        "c = float(input('Digite a nota P3\\n'))\n",
        "d = float(input('Digite a nota P4\\n'))\n",
        "média = (a + b + c + d) / 4\n",
        "print(\"Média Bimestral\", média)"
      ],
      "execution_count": null,
      "outputs": []
    },
    {
      "cell_type": "markdown",
      "metadata": {
        "id": "KG36XqI6e5zW"
      },
      "source": [
        "5.Faça um Programa que converta metros para centímetros.\n"
      ]
    },
    {
      "cell_type": "code",
      "metadata": {
        "id": "7xa9HEAZe8rp"
      },
      "source": [
        "a = float(input('Digite o valor em metros\\n'))\n",
        "conv = float(a * 100)\n",
        "print('O valor digitado em cm é:', conv)"
      ],
      "execution_count": null,
      "outputs": []
    },
    {
      "cell_type": "markdown",
      "metadata": {
        "id": "Gbs_F0V0ryW4"
      },
      "source": [
        "6.Faça um Programa que peça o raio de um círculo, calcule e mostre sua área.\n"
      ]
    },
    {
      "cell_type": "code",
      "metadata": {
        "id": "LrC6xgY_r84g"
      },
      "source": [
        "import math\n",
        "a = float(input('Digite o valor do raio do círculo\\n'))\n",
        "S = float(math.pi * a ** 2)\n",
        "print('O valor da área do círculo é:', round(S, 2)) \n",
        "\n",
        "\"\"\" Neste caso, escolhi arredondar o valor de 'S' em 2 casas decimais usando 'round'. \"\"\""
      ],
      "execution_count": null,
      "outputs": []
    },
    {
      "cell_type": "markdown",
      "metadata": {
        "id": "gVIYl1DQAM8K"
      },
      "source": [
        "7.Faça um Programa que calcule a área de um quadrado, em seguida mostre o dobro desta área para o usuário.\n"
      ]
    },
    {
      "cell_type": "code",
      "metadata": {
        "id": "oSxTNg7pAtbX"
      },
      "source": [
        "l = float(input('Digite o valor do lado do quadrado\\n'))\n",
        "S = float(l ** 2)\n",
        "print('O valor do dobro da área do quadrado é:', round(2 * S, 2)) \n",
        "\n",
        "\"\"\" Neste caso, escolhi arredondar o valor de '2 * S' em 2 casas decimais usando 'round'. \"\"\""
      ],
      "execution_count": null,
      "outputs": []
    },
    {
      "cell_type": "markdown",
      "metadata": {
        "id": "qqffXJ5RB9AJ"
      },
      "source": [
        "8.Faça um Programa que pergunte quanto você ganha por hora e o número de horas trabalhadas no mês. Calcule e mostre o total do seu salário no referido mês.\n"
      ]
    },
    {
      "cell_type": "code",
      "metadata": {
        "id": "nX0DWG_TCE8x"
      },
      "source": [
        "ganho_hora = float(input('Quanto você ganha por hora trabalhada?\\n'))\n",
        "horas_mês = int(input('Quantas horas você trabalha num mẽs?\\n'))\n",
        "salário_mês = float(ganho_hora * horas_mês)\n",
        "print(f'O seu salário num mês é: R$ %.2f' % salário_mês) \n",
        "\n",
        "\"\"\" Neste caso, escolhi determinar o valor de 'salário_mês' com 2 casas decimais usando o argumento de string '%.<número de casas decimais>f'. \"\"\""
      ],
      "execution_count": null,
      "outputs": []
    },
    {
      "cell_type": "markdown",
      "metadata": {
        "id": "532MU3-V3S5b"
      },
      "source": [
        "9.Faça um Programa que peça a temperatura em graus Fahrenheit, transforme e mostre a temperatura em graus Celsius. \n",
        "\n",
        "  C = 5 * ((F-32) / 9). "
      ]
    },
    {
      "cell_type": "code",
      "metadata": {
        "id": "aVD8wYTz3qDZ"
      },
      "source": [
        "F = float(input('Temperatura em Fahrenheit:\\n'))\n",
        "C = float(5 * ((F - 32) / 9))\n",
        "print(f'A temperatura em Celsius é: %.1f' % C)"
      ],
      "execution_count": null,
      "outputs": []
    },
    {
      "cell_type": "markdown",
      "metadata": {
        "id": "YWQar1wn4xMC"
      },
      "source": [
        "10.Faça um Programa que peça a temperatura em graus Celsius, transforme e mostre em graus Fahrenheit. "
      ]
    },
    {
      "cell_type": "code",
      "metadata": {
        "id": "EmJII1cT49Rh"
      },
      "source": [
        "C = float(input('Temperatura em Celsius:\\n'))\n",
        "F = float((9 * C) + 160) / 5\n",
        "print(f'A temperatura em Fahrenheit é: %.1f' %F)"
      ],
      "execution_count": null,
      "outputs": []
    },
    {
      "cell_type": "markdown",
      "metadata": {
        "id": "6D_WLkc37FJE"
      },
      "source": [
        "11.Faça um Programa que peça 2 números inteiros e um número real. Calcule e mostre:\n",
        "\n",
        "    a. O produto do dobro do primeiro com metade do segundo.\n",
        "\n",
        "    b. A soma do triplo do primeiro com o terceiro.\n",
        "    \n",
        "    c. O terceiro elevado ao cubo. "
      ]
    },
    {
      "cell_type": "code",
      "metadata": {
        "id": "sKAf9Xmc70w5"
      },
      "source": [
        "num_1 = int(input('Primeiro valor:\\n'))\n",
        "num_2 = int(input('Segundo valor:\\n'))\n",
        "num_3 = float(input('Terceito valor:\\n'))\n",
        "a = ((2 * num_1) * (num_2 / 2))\n",
        "b = ((3 * num_1) + num_3)\n",
        "c = num_3 ** 3\n",
        "print(f'%0.f' % a)\n",
        "print(b)\n",
        "print(c)"
      ],
      "execution_count": null,
      "outputs": []
    },
    {
      "cell_type": "markdown",
      "metadata": {
        "id": "1kcB6DcG05A_"
      },
      "source": [
        "12.Tendo como dados de entrada a altura de uma pessoa, construa um algoritmo que calcule seu peso ideal, usando a seguinte fórmula: (72.7*altura) - 58 "
      ]
    },
    {
      "cell_type": "code",
      "metadata": {
        "id": "X4yhoCaH0-Cd"
      },
      "source": [
        "h = float(input('Digite a altura da pessoa:\\n'))\n",
        "p = float((72.7 * h) - 58)\n",
        "print(f'O peso ideal da pessoa é: %.2f' % p)"
      ],
      "execution_count": null,
      "outputs": []
    },
    {
      "cell_type": "markdown",
      "metadata": {
        "id": "9YqHf5Rr2n1I"
      },
      "source": [
        "13.Tendo como dado de entrada a altura (h) de uma pessoa, construa um algoritmo que calcule seu peso ideal, utilizando as seguintes fórmulas:\n",
        "\n",
        "    Para homens: (72.7*h) - 58\n",
        "    \n",
        "    Para mulheres: (62.1*h) - 44.7"
      ]
    },
    {
      "cell_type": "code",
      "metadata": {
        "id": "A62BKFdl2s18"
      },
      "source": [
        "h = float(input('Digite a altura da pessoa:\\n'))\n",
        "ph = float((72.7 * h) - 58)\n",
        "pm = float((62.1 * h) - 44.7)\n",
        "print(f'O peso ideal para homens é: %.2f' % ph)\n",
        "print(f'O peso ideal para mulheres é: %.2f' % pm)"
      ],
      "execution_count": null,
      "outputs": []
    },
    {
      "cell_type": "markdown",
      "metadata": {
        "id": "5AmJA3cWS7IH"
      },
      "source": [
        "14.João Papo-de-Pescador, homem de bem, comprou um microcomputador para controlar o rendimento diário de seu trabalho. Toda vez que ele traz um peso de peixes maior que o estabelecido pelo regulamento de pesca do estado de São Paulo (50 quilos), deve pagar uma multa de R$ 4,00 por quilo excedente. João precisa que você faça um programa que leia a variável peso (peso de peixes) e calcule o excesso. Gravar na variável excesso a quantidade de quilos além do limite e na variável multa o valor da multa que João deverá pagar. Imprima os dados do programa com as mensagens adequadas."
      ]
    },
    {
      "cell_type": "code",
      "metadata": {
        "id": "39OnV18SS_bn"
      },
      "source": [
        "p = float(input('Peso (Kg):\\n'))\n",
        "if p > 50:\n",
        "    print('Peso excessivo')\n",
        "    e = p - 50\n",
        "    print(f'Valor do excesso: %.2f' % e)\n",
        "    m = e * 4\n",
        "    print('Valor da multa(R$): %.2f' % m)"
      ],
      "execution_count": null,
      "outputs": []
    },
    {
      "cell_type": "markdown",
      "metadata": {
        "id": "5NdX5oVAiuhA"
      },
      "source": [
        "15.Faça um Programa que pergunte quanto você ganha por hora e o número de horas trabalhadas no mês. Calcule e mostre o total do seu salário no referido mês, sabendo-se que são descontados 11% para o Imposto de Renda, 8% para o INSS e 5% para o sindicato, faça um programa que nos dê:\n",
        "\n",
        "a. Salário bruto.\n",
        "\n",
        "b. Quanto pagou ao INSS.\n",
        "\n",
        "c. Quanto pagou ao sindicato.\n",
        "\n",
        "d. O salário líquido.\n",
        "\n",
        "calcule os descontos e o salário líquido, conforme a tabela abaixo:\n",
        "\n",
        "(+) Salário Bruto : R$\n",
        "\n",
        "(-) IR (11%) : R$\n",
        "\n",
        "(-) INSS (8%) : R$\n",
        "\n",
        "(-) Sindicato ( 5%) : R$\n",
        "\n",
        "(=) Salário Liquido : R$\n",
        "\n",
        "Obs.: Salário Bruto - Descontos = Salário Líquido."
      ]
    },
    {
      "cell_type": "code",
      "metadata": {
        "id": "Beh_vniAkvHs"
      },
      "source": [
        "ganho_hora = float(input('Quanto você ganha por hora trabalhada?\\n'))\n",
        "horas_mês = int(input('Quantas horas você trabalha num mẽs?\\n'))\n",
        "salário_bruto = float(ganho_hora * horas_mês)\n",
        "valor_ir = ((11 / 100) * salário_bruto)\n",
        "valor_inss = ((8 / 100) * salário_bruto)\n",
        "valor_sindicato = ((5 / 100) * salário_bruto)\n",
        "salário_líquido = salário_bruto - valor_sindicato - valor_inss - valor_ir\n",
        "print(f'Salário Bruto: R$ %.2f' % salário_bruto)\n",
        "print(f'Valor INSS: R$ %.2f' % valor_ir)\n",
        "print(f'Valor Sindicato: R$ %.2f' % valor_sindicato)\n",
        "print(f'Valor salário Líquido: R$ %.2f' % salário_líquido)"
      ],
      "execution_count": null,
      "outputs": []
    },
    {
      "cell_type": "markdown",
      "metadata": {
        "id": "ZThT92rw4Xnc"
      },
      "source": [
        "16.Faça um programa para uma loja de tintas. O programa deverá pedir o tamanho em metros quadrados da área a ser pintada. Considere que a cobertura da tinta é de 1 litro para cada 3 metros quadrados e que a tinta é vendida em latas de 18 litros, que custam R$ 80,00. Informe ao usuário a quantidades de latas de tinta a serem compradas e o preço total."
      ]
    },
    {
      "cell_type": "code",
      "metadata": {
        "id": "hoRbjOku4b1N",
        "colab": {
          "base_uri": "https://localhost:8080/"
        },
        "outputId": "669c9b8a-023b-4778-d2d7-1ec10a32ab15"
      },
      "source": [
        "\"\"\" volume  área\t\t        latas  volume  preço  área\n",
        "      1\t      3   \t          1       18     80    54\n",
        "    \t18      54\t     \t      L               P     S\n",
        "\n",
        "                             L = S / 54\n",
        "                             P = L * 80           \n",
        "\"\"\"\n",
        "\n",
        "S = float(input('Valor da área à pintar(m²):\\n'))\n",
        "\n",
        "if S <= 54:\n",
        "  print('Quantidade mínima de latas: 1')\n",
        "  print('Valor: R$ 80.00')\n",
        "if S > 54:\n",
        "  L = float(round((S / 54) + 0.5))\n",
        "  P = int(L * 80)\n",
        "  print('Número de latas: %.f' % L)\n",
        "  print('Preço total: R$', P)"
      ],
      "execution_count": null,
      "outputs": [
        {
          "output_type": "stream",
          "text": [
            "Valor da área à pintar(m²):\n",
            "60\n",
            "Número de latas: 2\n",
            "Preço total: R$ 160\n"
          ],
          "name": "stdout"
        }
      ]
    },
    {
      "cell_type": "markdown",
      "metadata": {
        "id": "NitfOu1Uznbk"
      },
      "source": [
        "17.Faça um Programa para uma loja de tintas. O programa deverá pedir o tamanho em metros quadrados da área a ser pintada. Considere que a cobertura da tinta é de 1 litro para cada 6 metros quadrados e que a tinta é vendida em latas de 18 litros, que custam 80,00 reais ou em galões de 3,6 litros, que custam R$ 25,00. Informe ao usuário as quantidades de tinta a serem compradas e os respectivos preços em 3 situações:\n",
        "\n",
        "\n",
        "*   comprar apenas latas de 18 litros;\n",
        "\n",
        "*   comprar apenas galões de 3,6 litros;\n",
        "\n",
        "\n",
        "*   misturar latas e galões, de forma que o desperdício de tinta seja menor. Acrescente 10% de folga e sempre arredonde os valores para cima, isto é, considere latas cheias.\n"
      ]
    },
    {
      "cell_type": "code",
      "metadata": {
        "id": "1eVzz6Ui0V-x"
      },
      "source": [
        "\"\"\" latas  volume  área     galões  volume  área\n",
        "      1      18               1       3.6\n",
        "              1      6                 1     6\n",
        "\n",
        "\n",
        "\"\"\"\n",
        "\n",
        "S = float(input('Valor da área à pintar(m²):\\n'))\n",
        "\n",
        "L = float(round((S / 108) + 0.5))\n",
        "PL = int(L * 80)\n",
        "print('Número de Latas(18 litros/Lata): %.f' % L)\n",
        "print('Preço Total das Latas: R$', PL)\n",
        "\n",
        "G = float(round((S / 21.6) + 0.5))\n",
        "PG = int(G * 25)\n",
        "print('Número de Galões(3,6 litros/Galão): %.f' % G)\n",
        "print('Preço Total dos Galões: R$', PG)\n",
        "\n"
      ],
      "execution_count": null,
      "outputs": []
    },
    {
      "cell_type": "markdown",
      "metadata": {
        "id": "CJ5eXQim69nK"
      },
      "source": [
        "18.Faça um programa que peça o tamanho de um arquivo para download (em MB) e a velocidade de um link de Internet (em Mbps), calcule e informe o tempo aproximado de download do arquivo usando este link (em minutos).\n"
      ]
    },
    {
      "cell_type": "code",
      "metadata": {
        "id": "n8U_1m-c7Bx1"
      },
      "source": [
        "\"\"\" v = T / t -> t = T / v = (MB * 8) / (Mb/s) = (Mb * s) / Mb = s = (1 / 60)m \"\"\"\n",
        "\n",
        "T = float(input('Tamanho do Arquivo para Download (MB):\\n'))\n",
        "v = float(input('Velocidade do Link (Mbps):\\n'))\n",
        "t = int((T / v) * (2 / 15))\n",
        "print('Tempo de Download (Min):', t)"
      ],
      "execution_count": null,
      "outputs": []
    },
    {
      "cell_type": "markdown",
      "metadata": {
        "id": "M-8qQ9dXQjNF"
      },
      "source": [
        "# ***Estrutura de Decisão***\n"
      ]
    },
    {
      "cell_type": "markdown",
      "metadata": {
        "id": "MGYHN7KROpPo"
      },
      "source": [
        "1.Faça um Programa que peça dois números e imprima o maior deles.\n"
      ]
    },
    {
      "cell_type": "code",
      "metadata": {
        "id": "seOc-NZeOsyJ"
      },
      "source": [
        "a = float(input('Valor 1:\\n'))\n",
        "b = float(input('Valor 2:\\n'))\n",
        "\n",
        "if a < b:\n",
        "  print('Valor Maior: %.f' % b)\n",
        "elif a > b:\n",
        "  print('Valor Maior: %.f' % a)\n",
        "else:\n",
        "  print('Valores de Mesma Amplitude!')"
      ],
      "execution_count": null,
      "outputs": []
    },
    {
      "cell_type": "markdown",
      "metadata": {
        "id": "j2sKO7QobZOw"
      },
      "source": [
        "2.Faça um Programa que peça um valor e mostre na tela se o valor é positivo ou negativo.\n"
      ]
    },
    {
      "cell_type": "code",
      "metadata": {
        "id": "BAWrWPb0bhp_"
      },
      "source": [
        "a = float(input('Valor:\\n'))\n",
        "if a < 0:\n",
        "  print('Valor Negativo')\n",
        "elif a > 0:\n",
        "  print('Valor Positivo')\n",
        "else:\n",
        "  print('Valor Central (Referência: -inf < Valor < +inf para Números Reais')"
      ],
      "execution_count": null,
      "outputs": []
    },
    {
      "cell_type": "markdown",
      "metadata": {
        "id": "Pe8N7XpndT30"
      },
      "source": [
        "3.Faça um Programa que verifique se uma letra digitada é \"F\" ou \"M\". Conforme a letra escrever: F - Feminino, M - Masculino, Sexo Inválido.\n"
      ]
    },
    {
      "cell_type": "code",
      "metadata": {
        "id": "OwqyoL7pdWqy",
        "colab": {
          "base_uri": "https://localhost:8080/"
        },
        "outputId": "8a465001-38e0-43aa-c38c-6cc851a089df"
      },
      "source": [
        "S = str((input('Digite o Sexo:\\n')))\n",
        "\n",
        "if S == 'F':\n",
        "  print('F - Feminino')\n",
        "elif S == 'M':\n",
        "  print('M - Masculino')"
      ],
      "execution_count": null,
      "outputs": [
        {
          "output_type": "stream",
          "text": [
            "Digite o Sexo:\n",
            "M\n",
            "M - Masculino\n"
          ],
          "name": "stdout"
        }
      ]
    },
    {
      "cell_type": "markdown",
      "metadata": {
        "id": "hs2piNWGgbgO"
      },
      "source": [
        "4.Faça um Programa que verifique se uma letra digitada é vogal ou consoante.\n"
      ]
    },
    {
      "cell_type": "code",
      "metadata": {
        "id": "p5QJbmO9ge37"
      },
      "source": [
        "S = str((input('Digite a Letra:\\n').lower()))\n",
        "\n",
        "if S == 'a' or S == 'e' or S == 'i' or S == 'o' or S == 'u':\n",
        "  print('A Letra é Vogal')\n",
        "else:\n",
        "  print('A letra é Consoante')"
      ],
      "execution_count": null,
      "outputs": []
    },
    {
      "cell_type": "markdown",
      "metadata": {
        "id": "osQkrY0Pm_xj"
      },
      "source": [
        "5.Faça um programa para a leitura de duas notas parciais de um aluno. O programa deve calcular a média alcançada por aluno e apresentar:\n",
        "\n",
        "* A mensagem \"Aprovado\", se a média alcançada for maior ou igual a sete;\n",
        "\n",
        "* A mensagem \"Reprovado\", se a média for menor do que sete;\n",
        "\n",
        "* A mensagem \"Aprovado com Distinção\", se a média for igual a dez."
      ]
    },
    {
      "cell_type": "code",
      "metadata": {
        "id": "zAS6fuHbnrAh"
      },
      "source": [
        "nota_1 = float(input('Nota 1:\\n'))\n",
        "nota_2 = float(input('Nota 2:\\n'))\n",
        "média = float((nota_1 + nota_2) / 2)\n",
        "\n",
        "if 7 <= média < 10:\n",
        "  print('Aprovado')\n",
        "elif média < 7:\n",
        "  print('Reprovado')\n",
        "if média == 10:\n",
        "  print('Aprovado com Distinção')"
      ],
      "execution_count": null,
      "outputs": []
    },
    {
      "cell_type": "markdown",
      "metadata": {
        "id": "Wtu-bsDFp9J7"
      },
      "source": [
        "6.Faça um Programa que leia três números e mostre o maior deles.\n"
      ]
    },
    {
      "cell_type": "code",
      "metadata": {
        "id": "HqgCsYSrqCEL"
      },
      "source": [
        "a = float(input('Valor 1:\\n'))\n",
        "b = float(input('Valor 2:\\n'))\n",
        "c = float(input('Valor 3:\\n'))\n",
        "\n",
        "if a < b:\n",
        "  print('Valor Maior: %.f' % b)\n",
        "elif a > b:\n",
        "  print('Valor Maior: %.f' % a)\n",
        "elif a < c:\n",
        "  print('Valor Maior: %.f' % c)\n",
        "elif a > c:\n",
        "  print('Valor Maior: %.f' % a)\n",
        "elif b < c:\n",
        "  print('Valor Maior: %.f' % c)\n",
        "elif b > c:\n",
        "  print('Valor Maior: %.f' % b)\n",
        "else:\n",
        "  print('Valores de Mesma Amplitude!')"
      ],
      "execution_count": null,
      "outputs": []
    },
    {
      "cell_type": "markdown",
      "metadata": {
        "id": "fg9AhGoVrXEd"
      },
      "source": [
        "7.Faça um Programa que leia três números e mostre o maior e o menor deles.\n"
      ]
    },
    {
      "cell_type": "code",
      "metadata": {
        "id": "y02-sgIVr0tb"
      },
      "source": [
        "a = float(input('Valor 1:\\n'))\n",
        "b = float(input('Valor 2:\\n'))\n",
        "c = float(input('Valor 3:\\n'))\n",
        "\n",
        "if a < b < c:\n",
        "  print('Valor Maior: %.f' % c)\n",
        "  print('Valor Menor: %.f' % a)\n",
        "elif b < a < c:\n",
        "  print('Valor Maior: %.f' % c)\n",
        "  print('Valor Menor: %.f' % b)\n",
        "elif c < b < a:\n",
        "  print('Valor Maior: %.f' % a)\n",
        "  print('Valor Menor: %.f' % c)\n",
        "elif b < c < a:\n",
        "  print('Valor Maior: %.f' % a)\n",
        "  print('Valor Menor: %.f' % b)\n",
        "else:\n",
        "  print('Valores de Mesma Amplitude!')"
      ],
      "execution_count": null,
      "outputs": []
    },
    {
      "cell_type": "markdown",
      "metadata": {
        "id": "cd7g2KfGwLbZ"
      },
      "source": [
        "8.Faça um programa que pergunte o preço de três produtos e informe qual produto você deve comprar, sabendo que a decisão é sempre pelo mais barato.\n"
      ]
    },
    {
      "cell_type": "code",
      "metadata": {
        "id": "2zcR7LN9wVaJ"
      },
      "source": [
        "P1 = float(input('Preço do Produto 1:\\n'))\n",
        "P2 = float(input('Preço do Produto 2:\\n'))\n",
        "P3 = float(input('Preço do Produto 3:\\n'))\n",
        "\n",
        "if P1 < P2 < P3:\n",
        "  not print('Preço Maior: %.2f' % P3)\n",
        "  print('Compra Sugerida: R$ %.2f' % P1)\n",
        "elif P2 < P1 < P3:\n",
        "  not print('5: %.2f' % P3)\n",
        "  print('Compra Sugerida: R$ %.2f' % P2)\n",
        "elif P3 < P2 < P1:\n",
        "  not print('Preço Maior: %.2f' % P1)\n",
        "  print('Compra Sugerida: R$ %.2f' % P3)\n",
        "elif P2 < P3 < P1:\n",
        "  not print('Preço Maior: %.2f' % P1)\n",
        "  print('Compra Sugerida: R$ %.2f' % P2)\n",
        "else:\n",
        "  print('Todos os Produtos Possuem o Mesmo Valor')"
      ],
      "execution_count": null,
      "outputs": []
    },
    {
      "cell_type": "markdown",
      "metadata": {
        "id": "YCPstocN5NCM"
      },
      "source": [
        "9.Faça um Programa que leia três números e mostre-os em ordem decrescente.\n"
      ]
    },
    {
      "cell_type": "code",
      "metadata": {
        "id": "FPfQCcbExEaA"
      },
      "source": [
        "a = float(input('Número 1:\\n'))\n",
        "b = float(input('Número 2:\\n'))\n",
        "c = float(input('Número 3:\\n'))\n",
        "\n",
        "if a < b < c:\n",
        "  print(c, b, a)\n",
        "elif b < a < c:\n",
        "  print(c, a, b)\n",
        "elif b < c < a:\n",
        "  print(a, c, b)\n",
        "elif b < a < c:\n",
        "  print(c, a, b)\n",
        "elif a < c < b:\n",
        "  print(b, c, a)\n",
        "elif c < a < b:\n",
        "  print(b, a, c)\n",
        "else:\n",
        "  print('2 ou 3 Números São Idênticos!')"
      ],
      "execution_count": null,
      "outputs": []
    },
    {
      "cell_type": "markdown",
      "metadata": {
        "id": "hGaVZ8MQxrxe"
      },
      "source": [
        "* *Solução Alternativa*\n",
        "\n"
      ]
    },
    {
      "cell_type": "code",
      "metadata": {
        "id": "QUZBsBsj5TbB"
      },
      "source": [
        "a = float(input('Número 1:\\n'))\n",
        "b = float(input('Número 2:\\n'))\n",
        "c = float(input('Número 3:\\n'))\n",
        "\n",
        "lista = []\n",
        "lista.append(round(a, 1))\n",
        "lista.append(round(b, 1))\n",
        "lista.append(round(c, 1))\n",
        "lista.sort(reverse = True)\n",
        "print(lista)"
      ],
      "execution_count": null,
      "outputs": []
    },
    {
      "cell_type": "markdown",
      "metadata": {
        "id": "hKh2FOutxAG1"
      },
      "source": [
        "10.Faça um Programa que pergunte em que turno você estuda. Peça para digitar M-matutino ou V-Vespertino ou N- Noturno. Imprima a mensagem \"Bom Dia!\", \"Boa Tarde!\" ou \"Boa Noite!\" ou \"Valor Inválido!\", conforme o caso.\n"
      ]
    },
    {
      "cell_type": "code",
      "metadata": {
        "id": "crQ15HixBbhk"
      },
      "source": [
        "turno = str(input('Qual turno você estuda?:\\n'))\n",
        "\n",
        "if turno == 'M':\n",
        "  print('Bom Dia!')\n",
        "elif turno == 'V':\n",
        "  print('Boa Tarde!')\n",
        "elif turno == 'N':\n",
        "  print('Boa Noite!')\n",
        "else:\n",
        "  print('Valor Inválido!')"
      ],
      "execution_count": null,
      "outputs": []
    }
  ]
}
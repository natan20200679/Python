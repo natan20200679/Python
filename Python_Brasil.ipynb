{
  "nbformat": 4,
  "nbformat_minor": 0,
  "metadata": {
    "colab": {
      "name": "Python Brasil.ipynb",
      "provenance": [],
      "authorship_tag": "ABX9TyPaSgVS7L11G9XB59pYxJhK",
      "include_colab_link": true
    },
    "kernelspec": {
      "name": "python3",
      "display_name": "Python 3"
    },
    "language_info": {
      "name": "python"
    }
  },
  "cells": [
    {
      "cell_type": "markdown",
      "metadata": {
        "id": "view-in-github",
        "colab_type": "text"
      },
      "source": [
        "<a href=\"https://colab.research.google.com/github/natan20200679/Python/blob/master/Python_Brasil.ipynb\" target=\"_parent\"><img src=\"https://colab.research.google.com/assets/colab-badge.svg\" alt=\"Open In Colab\"/></a>"
      ]
    },
    {
      "cell_type": "markdown",
      "metadata": {
        "id": "0iGZEWM8cdBW"
      },
      "source": [
        "***Estrutura Sequêncial***"
      ]
    },
    {
      "cell_type": "markdown",
      "metadata": {
        "id": "fUZawB1gc_-H"
      },
      "source": [
        "1.Faça um Programa que mostre a mensagem \"Alo mundo\" na tela.\n"
      ]
    },
    {
      "cell_type": "code",
      "metadata": {
        "id": "s7lQVDumcNYW",
        "colab": {
          "base_uri": "https://localhost:8080/"
        },
        "outputId": "d905b8cb-e351-42d5-ea53-29efd6daafaf"
      },
      "source": [
        "print(\"Alo mundo\")"
      ],
      "execution_count": null,
      "outputs": [
        {
          "output_type": "stream",
          "text": [
            "Alo mundo\n"
          ],
          "name": "stdout"
        }
      ]
    },
    {
      "cell_type": "markdown",
      "metadata": {
        "id": "buLqEua3dPp1"
      },
      "source": [
        "2.Faça um Programa que peça um número e então mostre a mensagem o número informado foi [número].\n",
        "\n"
      ]
    },
    {
      "cell_type": "code",
      "metadata": {
        "id": "-uulB8feeG6R"
      },
      "source": [
        "n = input(\"Número?\\n\")\n",
        "print(\"O número informado foi\", n)"
      ],
      "execution_count": null,
      "outputs": []
    },
    {
      "cell_type": "markdown",
      "metadata": {
        "id": "65sujXB_8G4u"
      },
      "source": [
        "3.Faça um Programa que peça dois números e imprima a soma."
      ]
    },
    {
      "cell_type": "code",
      "metadata": {
        "id": "PKh9SPWO8LTw"
      },
      "source": [
        "a = int(input('Digite o primeiro número\\n'))\n",
        "b = int(input('Digite o segundo número\\n'))\n",
        "soma = a + b\n",
        "print('A soma dos 2 números é:', soma)"
      ],
      "execution_count": null,
      "outputs": []
    },
    {
      "cell_type": "markdown",
      "metadata": {
        "id": "5Vu6kkmCaxnr"
      },
      "source": [
        "4.Faça um Programa que peça as 4 notas bimestrais e mostre a média."
      ]
    },
    {
      "cell_type": "code",
      "metadata": {
        "id": "qwu-yAbabHzy"
      },
      "source": [
        "a = float(input('Digite a nota P1\\n'))\n",
        "b = float(input('Digite a nota P2\\n'))\n",
        "c = float(input('Digite a nota P3\\n'))\n",
        "d = float(input('Digite a nota P4\\n'))\n",
        "média = (a + b + c + d) / 4\n",
        "print(\"Média Bimestral\", média)"
      ],
      "execution_count": null,
      "outputs": []
    },
    {
      "cell_type": "markdown",
      "metadata": {
        "id": "KG36XqI6e5zW"
      },
      "source": [
        "5.Faça um Programa que converta metros para centímetros.\n"
      ]
    },
    {
      "cell_type": "code",
      "metadata": {
        "id": "7xa9HEAZe8rp"
      },
      "source": [
        "a = float(input('Digite o valor em metros\\n'))\n",
        "conv = float(a * 100)\n",
        "print('O valor digitado em cm é:', conv)"
      ],
      "execution_count": null,
      "outputs": []
    },
    {
      "cell_type": "markdown",
      "metadata": {
        "id": "Gbs_F0V0ryW4"
      },
      "source": [
        "6.Faça um Programa que peça o raio de um círculo, calcule e mostre sua área.\n"
      ]
    },
    {
      "cell_type": "code",
      "metadata": {
        "id": "LrC6xgY_r84g"
      },
      "source": [
        "import math\n",
        "a = float(input('Digite o valor do raio do círculo\\n'))\n",
        "S = float(math.pi * a ** 2)\n",
        "print('O valor da área do círculo é:', round(S, 2)) \n",
        "\n",
        "\"\"\" Neste caso, escolhi arredondar o valor de 'S' em 2 casas decimais usando 'round'. \"\"\""
      ],
      "execution_count": null,
      "outputs": []
    },
    {
      "cell_type": "markdown",
      "metadata": {
        "id": "gVIYl1DQAM8K"
      },
      "source": [
        "7.Faça um Programa que calcule a área de um quadrado, em seguida mostre o dobro desta área para o usuário.\n"
      ]
    },
    {
      "cell_type": "code",
      "metadata": {
        "id": "oSxTNg7pAtbX"
      },
      "source": [
        "l = float(input('Digite o valor do lado do quadrado\\n'))\n",
        "S = float(l ** 2)\n",
        "print('O valor do dobro da área do quadrado é:', round(2 * S, 2)) \n",
        "\n",
        "\"\"\" Neste caso, escolhi arredondar o valor de '2 * S' em 2 casas decimais usando 'round'. \"\"\""
      ],
      "execution_count": null,
      "outputs": []
    },
    {
      "cell_type": "markdown",
      "metadata": {
        "id": "qqffXJ5RB9AJ"
      },
      "source": [
        "8.Faça um Programa que pergunte quanto você ganha por hora e o número de horas trabalhadas no mês. Calcule e mostre o total do seu salário no referido mês.\n"
      ]
    },
    {
      "cell_type": "code",
      "metadata": {
        "id": "nX0DWG_TCE8x"
      },
      "source": [
        "ganho_hora = float(input('Quanto você ganha por hora trabalhada?\\n'))\n",
        "horas_mês = int(input('Quantas horas você trabalha num mẽs?\\n'))\n",
        "salário_mês = float(ganho_hora * horas_mês)\n",
        "print(f'O seu salário num mês é: R$ %.2f' % salário_mês) \n",
        "\n",
        "\"\"\" Neste caso, escolhi determinar o valor de 'salário_mês' com 2 casas decimais usando o argumento de string '%.<número de casas decimais>f'. \"\"\""
      ],
      "execution_count": null,
      "outputs": []
    },
    {
      "cell_type": "markdown",
      "metadata": {
        "id": "532MU3-V3S5b"
      },
      "source": [
        "9.Faça um Programa que peça a temperatura em graus Fahrenheit, transforme e mostre a temperatura em graus Celsius. \n",
        "\n",
        "  C = 5 * ((F-32) / 9). "
      ]
    },
    {
      "cell_type": "code",
      "metadata": {
        "id": "aVD8wYTz3qDZ"
      },
      "source": [
        "F = float(input('Temperatura em Fahrenheit:\\n'))\n",
        "C = float(5 * ((F - 32) / 9))\n",
        "print(f'A temperatura em Celsius é: %.1f' % C)"
      ],
      "execution_count": null,
      "outputs": []
    },
    {
      "cell_type": "markdown",
      "metadata": {
        "id": "YWQar1wn4xMC"
      },
      "source": [
        "10.Faça um Programa que peça a temperatura em graus Celsius, transforme e mostre em graus Fahrenheit. "
      ]
    },
    {
      "cell_type": "code",
      "metadata": {
        "id": "EmJII1cT49Rh"
      },
      "source": [
        "C = float(input('Temperatura em Celsius:\\n'))\n",
        "F = float((9 * C) + 160) / 5\n",
        "print(f'A temperatura em Fahrenheit é: %.1f' %F)"
      ],
      "execution_count": null,
      "outputs": []
    },
    {
      "cell_type": "markdown",
      "metadata": {
        "id": "6D_WLkc37FJE"
      },
      "source": [
        "11.Faça um Programa que peça 2 números inteiros e um número real. Calcule e mostre:\n",
        "\n",
        "    a. O produto do dobro do primeiro com metade do segundo.\n",
        "\n",
        "    b. A soma do triplo do primeiro com o terceiro.\n",
        "    \n",
        "    c. O terceiro elevado ao cubo. "
      ]
    },
    {
      "cell_type": "code",
      "metadata": {
        "id": "sKAf9Xmc70w5"
      },
      "source": [
        "num_1 = int(input('Primeiro valor:\\n'))\n",
        "num_2 = int(input('Segundo valor:\\n'))\n",
        "num_3 = float(input('Terceito valor:\\n'))\n",
        "a = ((2 * num_1) * (num_2 / 2))\n",
        "b = ((3 * num_1) + num_3)\n",
        "c = num_3 ** 3\n",
        "print(f'%0.f' % a)\n",
        "print(b)\n",
        "print(c)"
      ],
      "execution_count": null,
      "outputs": []
    },
    {
      "cell_type": "markdown",
      "metadata": {
        "id": "1kcB6DcG05A_"
      },
      "source": [
        "12.Tendo como dados de entrada a altura de uma pessoa, construa um algoritmo que calcule seu peso ideal, usando a seguinte fórmula: (72.7*altura) - 58 "
      ]
    },
    {
      "cell_type": "code",
      "metadata": {
        "id": "X4yhoCaH0-Cd"
      },
      "source": [
        "h = float(input('Digite a altura da pessoa:\\n'))\n",
        "p = float((72.7 * h) - 58)\n",
        "print(f'O peso ideal da pessoa é: %.2f' % p)"
      ],
      "execution_count": null,
      "outputs": []
    },
    {
      "cell_type": "markdown",
      "metadata": {
        "id": "9YqHf5Rr2n1I"
      },
      "source": [
        "13.Tendo como dado de entrada a altura (h) de uma pessoa, construa um algoritmo que calcule seu peso ideal, utilizando as seguintes fórmulas:\n",
        "\n",
        "    Para homens: (72.7*h) - 58\n",
        "    \n",
        "    Para mulheres: (62.1*h) - 44.7"
      ]
    },
    {
      "cell_type": "code",
      "metadata": {
        "id": "A62BKFdl2s18"
      },
      "source": [
        "h = float(input('Digite a altura da pessoa:\\n'))\n",
        "ph = float((72.7 * h) - 58)\n",
        "pm = float((62.1 * h) - 44.7)\n",
        "print(f'O peso ideal para homens é: %.2f' % ph)\n",
        "print(f'O peso ideal para mulheres é: %.2f' % pm)"
      ],
      "execution_count": null,
      "outputs": []
    },
    {
      "cell_type": "markdown",
      "metadata": {
        "id": "5AmJA3cWS7IH"
      },
      "source": [
        "14.João Papo-de-Pescador, homem de bem, comprou um microcomputador para controlar o rendimento diário de seu trabalho. Toda vez que ele traz um peso de peixes maior que o estabelecido pelo regulamento de pesca do estado de São Paulo (50 quilos), deve pagar uma multa de R$ 4,00 por quilo excedente. João precisa que você faça um programa que leia a variável peso (peso de peixes) e calcule o excesso. Gravar na variável excesso a quantidade de quilos além do limite e na variável multa o valor da multa que João deverá pagar. Imprima os dados do programa com as mensagens adequadas."
      ]
    },
    {
      "cell_type": "code",
      "metadata": {
        "id": "39OnV18SS_bn"
      },
      "source": [
        "p = float(input('Peso (Kg):\\n'))\n",
        "if p > 50:\n",
        "    print('Peso excessivo')\n",
        "    e = p - 50\n",
        "    print(f'Valor do excesso: %.2f' % e)\n",
        "    m = e * 4\n",
        "    print('Valor da multa(R$): %.2f' % m)"
      ],
      "execution_count": null,
      "outputs": []
    },
    {
      "cell_type": "markdown",
      "metadata": {
        "id": "5NdX5oVAiuhA"
      },
      "source": [
        "15.Faça um Programa que pergunte quanto você ganha por hora e o número de horas trabalhadas no mês. Calcule e mostre o total do seu salário no referido mês, sabendo-se que são descontados 11% para o Imposto de Renda, 8% para o INSS e 5% para o sindicato, faça um programa que nos dê:\n",
        "\n",
        "a. Salário bruto.\n",
        "\n",
        "b. Quanto pagou ao INSS.\n",
        "\n",
        "c. Quanto pagou ao sindicato.\n",
        "\n",
        "d. O salário líquido.\n",
        "\n",
        "calcule os descontos e o salário líquido, conforme a tabela abaixo:\n",
        "\n",
        "(+) Salário Bruto : R$\n",
        "\n",
        "(-) IR (11%) : R$\n",
        "\n",
        "(-) INSS (8%) : R$\n",
        "\n",
        "(-) Sindicato ( 5%) : R$\n",
        "\n",
        "(=) Salário Liquido : R$\n",
        "\n",
        "Obs.: Salário Bruto - Descontos = Salário Líquido."
      ]
    },
    {
      "cell_type": "code",
      "metadata": {
        "id": "Beh_vniAkvHs"
      },
      "source": [
        "ganho_hora = float(input('Quanto você ganha por hora trabalhada?\\n'))\n",
        "horas_mês = int(input('Quantas horas você trabalha num mẽs?\\n'))\n",
        "salário_bruto = float(ganho_hora * horas_mês)\n",
        "valor_ir = ((11 / 100) * salário_bruto)\n",
        "valor_inss = ((8 / 100) * salário_bruto)\n",
        "valor_sindicato = ((5 / 100) * salário_bruto)\n",
        "salário_líquido = salário_bruto - valor_sindicato - valor_inss - valor_ir\n",
        "print(f'Salário Bruto: R$ %.2f' % salário_bruto)\n",
        "print(f'Valor INSS: R$ %.2f' % valor_ir)\n",
        "print(f'Valor Sindicato: R$ %.2f' % valor_sindicato)\n",
        "print(f'Valor salário Líquido: R$ %.2f' % salário_líquido)"
      ],
      "execution_count": null,
      "outputs": []
    },
    {
      "cell_type": "markdown",
      "metadata": {
        "id": "ZThT92rw4Xnc"
      },
      "source": [
        "16.Faça um programa para uma loja de tintas. O programa deverá pedir o tamanho em metros quadrados da área a ser pintada. Considere que a cobertura da tinta é de 1 litro para cada 3 metros quadrados e que a tinta é vendida em latas de 18 litros, que custam R$ 80,00. Informe ao usuário a quantidades de latas de tinta a serem compradas e o preço total."
      ]
    },
    {
      "cell_type": "code",
      "metadata": {
        "id": "hoRbjOku4b1N"
      },
      "source": [
        "S = float(input('Valor da área à pintar(m²):\\n'))\n",
        "\n",
        "if S < 54:\n",
        "  print('Quantidade mínima de latas: 1')\n",
        "  print('Valor: R$ 80.00')\n",
        "if S > 54:\n",
        "  latas = float(round(S / 54))\n",
        "  preço_total = int(80 * latas)\n",
        "  print('Número de latas: %.f' % latas)\n",
        "  print('Preço total:', preço_total)"
      ],
      "execution_count": null,
      "outputs": []
    }
  ]
}
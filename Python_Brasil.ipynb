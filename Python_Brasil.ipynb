{
  "nbformat": 4,
  "nbformat_minor": 0,
  "metadata": {
    "colab": {
      "name": "Python Brasil.ipynb",
      "provenance": [],
      "authorship_tag": "ABX9TyPePPDq8UoZQx+de8TOk3jV",
      "include_colab_link": true
    },
    "kernelspec": {
      "name": "python3",
      "display_name": "Python 3"
    },
    "language_info": {
      "name": "python"
    }
  },
  "cells": [
    {
      "cell_type": "markdown",
      "metadata": {
        "id": "view-in-github",
        "colab_type": "text"
      },
      "source": [
        "<a href=\"https://colab.research.google.com/github/natan20200679/Python/blob/master/Python_Brasil.ipynb\" target=\"_parent\"><img src=\"https://colab.research.google.com/assets/colab-badge.svg\" alt=\"Open In Colab\"/></a>"
      ]
    },
    {
      "cell_type": "markdown",
      "metadata": {
        "id": "0iGZEWM8cdBW"
      },
      "source": [
        "***Estrutura Sequêncial***"
      ]
    },
    {
      "cell_type": "markdown",
      "metadata": {
        "id": "fUZawB1gc_-H"
      },
      "source": [
        "- Faça um Programa que mostre a mensagem \"Alo mundo\" na tela.\n"
      ]
    },
    {
      "cell_type": "code",
      "metadata": {
        "id": "s7lQVDumcNYW",
        "colab": {
          "base_uri": "https://localhost:8080/"
        },
        "outputId": "d905b8cb-e351-42d5-ea53-29efd6daafaf"
      },
      "source": [
        "print(\"Alo mundo\")"
      ],
      "execution_count": null,
      "outputs": [
        {
          "output_type": "stream",
          "text": [
            "Alo mundo\n"
          ],
          "name": "stdout"
        }
      ]
    },
    {
      "cell_type": "markdown",
      "metadata": {
        "id": "buLqEua3dPp1"
      },
      "source": [
        "- Faça um Programa que peça um número e então mostre a mensagem o número informado foi [número].\n",
        "\n"
      ]
    },
    {
      "cell_type": "code",
      "metadata": {
        "id": "-uulB8feeG6R"
      },
      "source": [
        "n = input(\"Número?\\n\")\n",
        "print(\"O número informado foi\", n)"
      ],
      "execution_count": null,
      "outputs": []
    },
    {
      "cell_type": "markdown",
      "metadata": {
        "id": "65sujXB_8G4u"
      },
      "source": [
        "- Faça um Programa que peça dois números e imprima a soma."
      ]
    },
    {
      "cell_type": "code",
      "metadata": {
        "id": "PKh9SPWO8LTw"
      },
      "source": [
        "a = int(input('Digite o primeiro número\\n'))\n",
        "b = int(input('Digite o segundo número\\n'))\n",
        "soma = a + b\n",
        "print('A soma dos 2 números é:', soma)"
      ],
      "execution_count": null,
      "outputs": []
    },
    {
      "cell_type": "markdown",
      "metadata": {
        "id": "5Vu6kkmCaxnr"
      },
      "source": [
        "- Faça um Programa que peça as 4 notas bimestrais e mostre a média."
      ]
    },
    {
      "cell_type": "code",
      "metadata": {
        "id": "qwu-yAbabHzy"
      },
      "source": [
        "a = float(input('Digite a nota P1\\n'))\n",
        "b = float(input('Digite a nota P2\\n'))\n",
        "c = float(input('Digite a nota P3\\n'))\n",
        "d = float(input('Digite a nota P4\\n'))\n",
        "média = (a + b + c + d) / 4\n",
        "print(\"Média Bimestral\", média)"
      ],
      "execution_count": null,
      "outputs": []
    },
    {
      "cell_type": "markdown",
      "metadata": {
        "id": "KG36XqI6e5zW"
      },
      "source": [
        "- Faça um Programa que converta metros para centímetros.\n"
      ]
    },
    {
      "cell_type": "code",
      "metadata": {
        "id": "7xa9HEAZe8rp"
      },
      "source": [
        "a = float(input('Digite o valor em metros\\n'))\n",
        "conv = float(a * 100)\n",
        "print('O valor digitado em cm:', conv)"
      ],
      "execution_count": null,
      "outputs": []
    }
  ]
}
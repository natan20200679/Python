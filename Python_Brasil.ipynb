{
  "nbformat": 4,
  "nbformat_minor": 0,
  "metadata": {
    "colab": {
      "name": "Python Brasil.ipynb",
      "provenance": [],
      "toc_visible": true,
      "authorship_tag": "ABX9TyNXyty1f/4XgoGzHfn7A1xM",
      "include_colab_link": true
    },
    "kernelspec": {
      "name": "python3",
      "display_name": "Python 3"
    },
    "language_info": {
      "name": "python"
    }
  },
  "cells": [
    {
      "cell_type": "markdown",
      "metadata": {
        "id": "view-in-github",
        "colab_type": "text"
      },
      "source": [
        "<a href=\"https://colab.research.google.com/github/natan20200679/Python/blob/master/Python_Brasil.ipynb\" target=\"_parent\"><img src=\"https://colab.research.google.com/assets/colab-badge.svg\" alt=\"Open In Colab\"/></a>"
      ]
    },
    {
      "cell_type": "markdown",
      "metadata": {
        "id": "Homi7u-oPtp5"
      },
      "source": [
        "# ***Estrutura Sequêncial***"
      ]
    },
    {
      "cell_type": "markdown",
      "metadata": {
        "id": "fUZawB1gc_-H"
      },
      "source": [
        "1.Faça um Programa que mostre a mensagem \"Alo mundo\" na tela.\n"
      ]
    },
    {
      "cell_type": "code",
      "metadata": {
        "id": "s7lQVDumcNYW",
        "colab": {
          "base_uri": "https://localhost:8080/"
        },
        "outputId": "d905b8cb-e351-42d5-ea53-29efd6daafaf"
      },
      "source": [
        "print(\"Alo mundo\")"
      ],
      "execution_count": null,
      "outputs": [
        {
          "output_type": "stream",
          "text": [
            "Alo mundo\n"
          ],
          "name": "stdout"
        }
      ]
    },
    {
      "cell_type": "markdown",
      "metadata": {
        "id": "buLqEua3dPp1"
      },
      "source": [
        "2.Faça um Programa que peça um número e então mostre a mensagem o número informado foi [número].\n",
        "\n"
      ]
    },
    {
      "cell_type": "code",
      "metadata": {
        "id": "-uulB8feeG6R"
      },
      "source": [
        "n = input(\"Número?\\n\")\n",
        "print(\"O número informado foi\", n)"
      ],
      "execution_count": null,
      "outputs": []
    },
    {
      "cell_type": "markdown",
      "metadata": {
        "id": "65sujXB_8G4u"
      },
      "source": [
        "3.Faça um Programa que peça dois números e imprima a soma."
      ]
    },
    {
      "cell_type": "code",
      "metadata": {
        "id": "PKh9SPWO8LTw"
      },
      "source": [
        "a = int(input('Digite o primeiro número\\n'))\n",
        "b = int(input('Digite o segundo número\\n'))\n",
        "soma = a + b\n",
        "print('A soma dos 2 números é:', soma)"
      ],
      "execution_count": null,
      "outputs": []
    },
    {
      "cell_type": "markdown",
      "metadata": {
        "id": "5Vu6kkmCaxnr"
      },
      "source": [
        "4.Faça um Programa que peça as 4 notas bimestrais e mostre a média."
      ]
    },
    {
      "cell_type": "code",
      "metadata": {
        "id": "qwu-yAbabHzy"
      },
      "source": [
        "a = float(input('Digite a nota P1\\n'))\n",
        "b = float(input('Digite a nota P2\\n'))\n",
        "c = float(input('Digite a nota P3\\n'))\n",
        "d = float(input('Digite a nota P4\\n'))\n",
        "média = (a + b + c + d) / 4\n",
        "print(\"Média Bimestral\", média)"
      ],
      "execution_count": null,
      "outputs": []
    },
    {
      "cell_type": "markdown",
      "metadata": {
        "id": "KG36XqI6e5zW"
      },
      "source": [
        "5.Faça um Programa que converta metros para centímetros.\n"
      ]
    },
    {
      "cell_type": "code",
      "metadata": {
        "id": "7xa9HEAZe8rp"
      },
      "source": [
        "a = float(input('Digite o valor em metros\\n'))\n",
        "conv = float(a * 100)\n",
        "print('O valor digitado em cm é:', conv)"
      ],
      "execution_count": null,
      "outputs": []
    },
    {
      "cell_type": "markdown",
      "metadata": {
        "id": "Gbs_F0V0ryW4"
      },
      "source": [
        "6.Faça um Programa que peça o raio de um círculo, calcule e mostre sua área.\n"
      ]
    },
    {
      "cell_type": "code",
      "metadata": {
        "id": "LrC6xgY_r84g"
      },
      "source": [
        "import math\n",
        "a = float(input('Digite o valor do raio do círculo\\n'))\n",
        "S = float(math.pi * a ** 2)\n",
        "print('O valor da área do círculo é:', round(S, 2)) \n",
        "\n",
        "\"\"\" Neste caso, escolhi arredondar o valor de 'S' em 2 casas decimais usando 'round'. \"\"\""
      ],
      "execution_count": null,
      "outputs": []
    },
    {
      "cell_type": "markdown",
      "metadata": {
        "id": "gVIYl1DQAM8K"
      },
      "source": [
        "7.Faça um Programa que calcule a área de um quadrado, em seguida mostre o dobro desta área para o usuário.\n"
      ]
    },
    {
      "cell_type": "code",
      "metadata": {
        "id": "oSxTNg7pAtbX"
      },
      "source": [
        "l = float(input('Digite o valor do lado do quadrado\\n'))\n",
        "S = float(l ** 2)\n",
        "print('O valor do dobro da área do quadrado é:', round(2 * S, 2)) \n",
        "\n",
        "\"\"\" Neste caso, escolhi arredondar o valor de '2 * S' em 2 casas decimais usando 'round'. \"\"\""
      ],
      "execution_count": null,
      "outputs": []
    },
    {
      "cell_type": "markdown",
      "metadata": {
        "id": "qqffXJ5RB9AJ"
      },
      "source": [
        "8.Faça um Programa que pergunte quanto você ganha por hora e o número de horas trabalhadas no mês. Calcule e mostre o total do seu salário no referido mês.\n"
      ]
    },
    {
      "cell_type": "code",
      "metadata": {
        "id": "nX0DWG_TCE8x"
      },
      "source": [
        "ganho_hora = float(input('Quanto você ganha por hora trabalhada?\\n'))\n",
        "horas_mês = int(input('Quantas horas você trabalha num mẽs?\\n'))\n",
        "salário_mês = float(ganho_hora * horas_mês)\n",
        "print(f'O seu salário num mês é: R$ %.2f' % salário_mês) \n",
        "\n",
        "\"\"\" Neste caso, escolhi determinar o valor de 'salário_mês' com 2 casas decimais usando o argumento de string '%.<número de casas decimais>f'. \"\"\""
      ],
      "execution_count": null,
      "outputs": []
    },
    {
      "cell_type": "markdown",
      "metadata": {
        "id": "532MU3-V3S5b"
      },
      "source": [
        "9.Faça um Programa que peça a temperatura em graus Fahrenheit, transforme e mostre a temperatura em graus Celsius. \n",
        "\n",
        "  C = 5 * ((F-32) / 9). "
      ]
    },
    {
      "cell_type": "code",
      "metadata": {
        "id": "aVD8wYTz3qDZ"
      },
      "source": [
        "F = float(input('Temperatura em Fahrenheit:\\n'))\n",
        "C = float(5 * ((F - 32) / 9))\n",
        "print(f'A temperatura em Celsius é: %.1f' % C)"
      ],
      "execution_count": null,
      "outputs": []
    },
    {
      "cell_type": "markdown",
      "metadata": {
        "id": "YWQar1wn4xMC"
      },
      "source": [
        "10.Faça um Programa que peça a temperatura em graus Celsius, transforme e mostre em graus Fahrenheit. "
      ]
    },
    {
      "cell_type": "code",
      "metadata": {
        "id": "EmJII1cT49Rh"
      },
      "source": [
        "C = float(input('Temperatura em Celsius:\\n'))\n",
        "F = float((9 * C) + 160) / 5\n",
        "print(f'A temperatura em Fahrenheit é: %.1f' %F)"
      ],
      "execution_count": null,
      "outputs": []
    },
    {
      "cell_type": "markdown",
      "metadata": {
        "id": "6D_WLkc37FJE"
      },
      "source": [
        "11.Faça um Programa que peça 2 números inteiros e um número real. Calcule e mostre:\n",
        "\n",
        "    a. O produto do dobro do primeiro com metade do segundo.\n",
        "\n",
        "    b. A soma do triplo do primeiro com o terceiro.\n",
        "    \n",
        "    c. O terceiro elevado ao cubo. "
      ]
    },
    {
      "cell_type": "code",
      "metadata": {
        "id": "sKAf9Xmc70w5"
      },
      "source": [
        "num_1 = int(input('Primeiro valor:\\n'))\n",
        "num_2 = int(input('Segundo valor:\\n'))\n",
        "num_3 = float(input('Terceito valor:\\n'))\n",
        "a = ((2 * num_1) * (num_2 / 2))\n",
        "b = ((3 * num_1) + num_3)\n",
        "c = num_3 ** 3\n",
        "print(f'%0.f' % a)\n",
        "print(b)\n",
        "print(c)"
      ],
      "execution_count": null,
      "outputs": []
    },
    {
      "cell_type": "markdown",
      "metadata": {
        "id": "1kcB6DcG05A_"
      },
      "source": [
        "12.Tendo como dados de entrada a altura de uma pessoa, construa um algoritmo que calcule seu peso ideal, usando a seguinte fórmula: (72.7*altura) - 58 "
      ]
    },
    {
      "cell_type": "code",
      "metadata": {
        "id": "X4yhoCaH0-Cd"
      },
      "source": [
        "h = float(input('Digite a altura da pessoa:\\n'))\n",
        "p = float((72.7 * h) - 58)\n",
        "print(f'O peso ideal da pessoa é: %.2f' % p)"
      ],
      "execution_count": null,
      "outputs": []
    },
    {
      "cell_type": "markdown",
      "metadata": {
        "id": "9YqHf5Rr2n1I"
      },
      "source": [
        "13.Tendo como dado de entrada a altura (h) de uma pessoa, construa um algoritmo que calcule seu peso ideal, utilizando as seguintes fórmulas:\n",
        "\n",
        "    Para homens: (72.7*h) - 58\n",
        "    \n",
        "    Para mulheres: (62.1*h) - 44.7"
      ]
    },
    {
      "cell_type": "code",
      "metadata": {
        "id": "A62BKFdl2s18"
      },
      "source": [
        "h = float(input('Digite a altura da pessoa:\\n'))\n",
        "ph = float((72.7 * h) - 58)\n",
        "pm = float((62.1 * h) - 44.7)\n",
        "print(f'O peso ideal para homens é: %.2f' % ph)\n",
        "print(f'O peso ideal para mulheres é: %.2f' % pm)"
      ],
      "execution_count": null,
      "outputs": []
    },
    {
      "cell_type": "markdown",
      "metadata": {
        "id": "5AmJA3cWS7IH"
      },
      "source": [
        "14.João Papo-de-Pescador, homem de bem, comprou um microcomputador para controlar o rendimento diário de seu trabalho. Toda vez que ele traz um peso de peixes maior que o estabelecido pelo regulamento de pesca do estado de São Paulo (50 quilos), deve pagar uma multa de R$ 4,00 por quilo excedente. João precisa que você faça um programa que leia a variável peso (peso de peixes) e calcule o excesso. Gravar na variável excesso a quantidade de quilos além do limite e na variável multa o valor da multa que João deverá pagar. Imprima os dados do programa com as mensagens adequadas."
      ]
    },
    {
      "cell_type": "code",
      "metadata": {
        "id": "39OnV18SS_bn"
      },
      "source": [
        "p = float(input('Peso (Kg):\\n'))\n",
        "if p > 50:\n",
        "    print('Peso excessivo')\n",
        "    e = p - 50\n",
        "    print(f'Valor do excesso: %.2f' % e)\n",
        "    m = e * 4\n",
        "    print('Valor da multa(R$): %.2f' % m)"
      ],
      "execution_count": null,
      "outputs": []
    },
    {
      "cell_type": "markdown",
      "metadata": {
        "id": "5NdX5oVAiuhA"
      },
      "source": [
        "15.Faça um Programa que pergunte quanto você ganha por hora e o número de horas trabalhadas no mês. Calcule e mostre o total do seu salário no referido mês, sabendo-se que são descontados 11% para o Imposto de Renda, 8% para o INSS e 5% para o sindicato, faça um programa que nos dê:\n",
        "\n",
        "a. Salário bruto.\n",
        "\n",
        "b. Quanto pagou ao INSS.\n",
        "\n",
        "c. Quanto pagou ao sindicato.\n",
        "\n",
        "d. O salário líquido.\n",
        "\n",
        "calcule os descontos e o salário líquido, conforme a tabela abaixo:\n",
        "\n",
        "(+) Salário Bruto : R$\n",
        "\n",
        "(-) IR (11%) : R$\n",
        "\n",
        "(-) INSS (8%) : R$\n",
        "\n",
        "(-) Sindicato ( 5%) : R$\n",
        "\n",
        "(=) Salário Liquido : R$\n",
        "\n",
        "Obs.: Salário Bruto - Descontos = Salário Líquido."
      ]
    },
    {
      "cell_type": "code",
      "metadata": {
        "id": "Beh_vniAkvHs"
      },
      "source": [
        "ganho_hora = float(input('Quanto você ganha por hora trabalhada?\\n'))\n",
        "horas_mês = int(input('Quantas horas você trabalha num mẽs?\\n'))\n",
        "salário_bruto = float(ganho_hora * horas_mês)\n",
        "valor_ir = ((11 / 100) * salário_bruto)\n",
        "valor_inss = ((8 / 100) * salário_bruto)\n",
        "valor_sindicato = ((5 / 100) * salário_bruto)\n",
        "salário_líquido = salário_bruto - valor_sindicato - valor_inss - valor_ir\n",
        "print(f'Salário Bruto: R$ %.2f' % salário_bruto)\n",
        "print(f'Valor INSS: R$ %.2f' % valor_ir)\n",
        "print(f'Valor Sindicato: R$ %.2f' % valor_sindicato)\n",
        "print(f'Valor salário Líquido: R$ %.2f' % salário_líquido)"
      ],
      "execution_count": null,
      "outputs": []
    },
    {
      "cell_type": "markdown",
      "metadata": {
        "id": "ZThT92rw4Xnc"
      },
      "source": [
        "16.Faça um programa para uma loja de tintas. O programa deverá pedir o tamanho em metros quadrados da área a ser pintada. Considere que a cobertura da tinta é de 1 litro para cada 3 metros quadrados e que a tinta é vendida em latas de 18 litros, que custam R$ 80,00. Informe ao usuário a quantidades de latas de tinta a serem compradas e o preço total."
      ]
    },
    {
      "cell_type": "code",
      "metadata": {
        "id": "hoRbjOku4b1N",
        "colab": {
          "base_uri": "https://localhost:8080/"
        },
        "outputId": "669c9b8a-023b-4778-d2d7-1ec10a32ab15"
      },
      "source": [
        "\"\"\" volume  área\t\t        latas  volume  preço  área\n",
        "      1\t      3   \t          1       18     80    54\n",
        "    \t18      54\t     \t      L               P     S\n",
        "\n",
        "                             L = S / 54\n",
        "                             P = L * 80           \n",
        "\"\"\"\n",
        "\n",
        "S = float(input('Valor da área à pintar(m²):\\n'))\n",
        "\n",
        "if S <= 54:\n",
        "  print('Quantidade mínima de latas: 1')\n",
        "  print('Valor: R$ 80.00')\n",
        "if S > 54:\n",
        "  L = float(round((S / 54) + 0.5))\n",
        "  P = int(L * 80)\n",
        "  print('Número de latas: %.f' % L)\n",
        "  print('Preço total: R$', P)"
      ],
      "execution_count": null,
      "outputs": [
        {
          "output_type": "stream",
          "text": [
            "Valor da área à pintar(m²):\n",
            "60\n",
            "Número de latas: 2\n",
            "Preço total: R$ 160\n"
          ],
          "name": "stdout"
        }
      ]
    },
    {
      "cell_type": "markdown",
      "metadata": {
        "id": "NitfOu1Uznbk"
      },
      "source": [
        "17.Faça um Programa para uma loja de tintas. O programa deverá pedir o tamanho em metros quadrados da área a ser pintada. Considere que a cobertura da tinta é de 1 litro para cada 6 metros quadrados e que a tinta é vendida em latas de 18 litros, que custam 80,00 reais ou em galões de 3,6 litros, que custam R$ 25,00. Informe ao usuário as quantidades de tinta a serem compradas e os respectivos preços em 3 situações:\n",
        "\n",
        "\n",
        "*   comprar apenas latas de 18 litros;\n",
        "\n",
        "*   comprar apenas galões de 3,6 litros;\n",
        "\n",
        "\n",
        "*   misturar latas e galões, de forma que o desperdício de tinta seja menor. Acrescente 10% de folga e sempre arredonde os valores para cima, isto é, considere latas cheias.\n"
      ]
    },
    {
      "cell_type": "code",
      "metadata": {
        "id": "1eVzz6Ui0V-x"
      },
      "source": [
        "\"\"\" latas  volume  área     galões  volume  área\n",
        "      1      18               1       3.6\n",
        "              1      6                 1     6\n",
        "\n",
        "\n",
        "\"\"\"\n",
        "\n",
        "S = float(input('Valor da área à pintar(m²):\\n'))\n",
        "\n",
        "L = float(round((S / 108) + 0.5))\n",
        "PL = int(L * 80)\n",
        "print('Número de Latas(18 litros/Lata): %.f' % L)\n",
        "print('Preço Total das Latas: R$', PL)\n",
        "\n",
        "G = float(round((S / 21.6) + 0.5))\n",
        "PG = int(G * 25)\n",
        "print('Número de Galões(3,6 litros/Galão): %.f' % G)\n",
        "print('Preço Total dos Galões: R$', PG)\n",
        "\n"
      ],
      "execution_count": null,
      "outputs": []
    },
    {
      "cell_type": "markdown",
      "metadata": {
        "id": "CJ5eXQim69nK"
      },
      "source": [
        "18.Faça um programa que peça o tamanho de um arquivo para download (em MB) e a velocidade de um link de Internet (em Mbps), calcule e informe o tempo aproximado de download do arquivo usando este link (em minutos).\n"
      ]
    },
    {
      "cell_type": "code",
      "metadata": {
        "id": "n8U_1m-c7Bx1"
      },
      "source": [
        "\"\"\" v = T / t -> t = T / v = (MB * 8) / (Mb/s) = (Mb * s) / Mb = s = (1 / 60)m \"\"\"\n",
        "\n",
        "T = float(input('Tamanho do Arquivo para Download (MB):\\n'))\n",
        "v = float(input('Velocidade do Link (Mbps):\\n'))\n",
        "t = int((T / v) * (2 / 15))\n",
        "print('Tempo de Download (Min):', t)"
      ],
      "execution_count": null,
      "outputs": []
    },
    {
      "cell_type": "markdown",
      "metadata": {
        "id": "M-8qQ9dXQjNF"
      },
      "source": [
        "# ***Estrutura de Decisão***\n"
      ]
    },
    {
      "cell_type": "markdown",
      "metadata": {
        "id": "MGYHN7KROpPo"
      },
      "source": [
        "1.Faça um Programa que peça dois números e imprima o maior deles.\n"
      ]
    },
    {
      "cell_type": "code",
      "metadata": {
        "id": "seOc-NZeOsyJ"
      },
      "source": [
        "a = float(input('Valor 1:\\n'))\n",
        "b = float(input('Valor 2:\\n'))\n",
        "\n",
        "if a < b:\n",
        "  print('Valor Maior: %.f' % b)\n",
        "elif a > b:\n",
        "  print('Valor Maior: %.f' % a)\n",
        "else:\n",
        "  print('Valores de Mesma Amplitude!')"
      ],
      "execution_count": null,
      "outputs": []
    },
    {
      "cell_type": "markdown",
      "metadata": {
        "id": "j2sKO7QobZOw"
      },
      "source": [
        "2.Faça um Programa que peça um valor e mostre na tela se o valor é positivo ou negativo.\n"
      ]
    },
    {
      "cell_type": "code",
      "metadata": {
        "id": "BAWrWPb0bhp_"
      },
      "source": [
        "a = float(input('Valor:\\n'))\n",
        "if a < 0:\n",
        "  print('Valor Negativo')\n",
        "elif a > 0:\n",
        "  print('Valor Positivo')\n",
        "else:\n",
        "  print('Valor Central (Referência: -inf < Valor < +inf para Números Reais')"
      ],
      "execution_count": null,
      "outputs": []
    },
    {
      "cell_type": "markdown",
      "metadata": {
        "id": "Pe8N7XpndT30"
      },
      "source": [
        "3.Faça um Programa que verifique se uma letra digitada é \"F\" ou \"M\". Conforme a letra escrever: F - Feminino, M - Masculino, Sexo Inválido.\n"
      ]
    },
    {
      "cell_type": "code",
      "metadata": {
        "id": "OwqyoL7pdWqy",
        "colab": {
          "base_uri": "https://localhost:8080/"
        },
        "outputId": "8a465001-38e0-43aa-c38c-6cc851a089df"
      },
      "source": [
        "S = str((input('Digite o Sexo:\\n')))\n",
        "\n",
        "if S == 'F':\n",
        "  print('F - Feminino')\n",
        "elif S == 'M':\n",
        "  print('M - Masculino')"
      ],
      "execution_count": null,
      "outputs": [
        {
          "output_type": "stream",
          "text": [
            "Digite o Sexo:\n",
            "M\n",
            "M - Masculino\n"
          ],
          "name": "stdout"
        }
      ]
    },
    {
      "cell_type": "markdown",
      "metadata": {
        "id": "hs2piNWGgbgO"
      },
      "source": [
        "4.Faça um Programa que verifique se uma letra digitada é vogal ou consoante.\n"
      ]
    },
    {
      "cell_type": "code",
      "metadata": {
        "id": "p5QJbmO9ge37"
      },
      "source": [
        "S = str((input('Digite a Letra:\\n').lower()))\n",
        "\n",
        "if S == 'a' or S == 'e' or S == 'i' or S == 'o' or S == 'u':\n",
        "  print('A Letra é Vogal')\n",
        "else:\n",
        "  print('A letra é Consoante')"
      ],
      "execution_count": null,
      "outputs": []
    },
    {
      "cell_type": "markdown",
      "metadata": {
        "id": "osQkrY0Pm_xj"
      },
      "source": [
        "5.Faça um programa para a leitura de duas notas parciais de um aluno. O programa deve calcular a média alcançada por aluno e apresentar:\n",
        "\n",
        "* A mensagem \"Aprovado\", se a média alcançada for maior ou igual a sete;\n",
        "\n",
        "* A mensagem \"Reprovado\", se a média for menor do que sete;\n",
        "\n",
        "* A mensagem \"Aprovado com Distinção\", se a média for igual a dez."
      ]
    },
    {
      "cell_type": "code",
      "metadata": {
        "id": "zAS6fuHbnrAh"
      },
      "source": [
        "nota_1 = float(input('Nota 1:\\n'))\n",
        "nota_2 = float(input('Nota 2:\\n'))\n",
        "média = float((nota_1 + nota_2) / 2)\n",
        "\n",
        "if 7 <= média < 10:\n",
        "  print('Aprovado')\n",
        "elif média < 7:\n",
        "  print('Reprovado')\n",
        "if média == 10:\n",
        "  print('Aprovado com Distinção')"
      ],
      "execution_count": null,
      "outputs": []
    },
    {
      "cell_type": "markdown",
      "metadata": {
        "id": "Wtu-bsDFp9J7"
      },
      "source": [
        "6.Faça um Programa que leia três números e mostre o maior deles.\n"
      ]
    },
    {
      "cell_type": "code",
      "metadata": {
        "id": "HqgCsYSrqCEL"
      },
      "source": [
        "a = float(input('Valor 1:\\n'))\n",
        "b = float(input('Valor 2:\\n'))\n",
        "c = float(input('Valor 3:\\n'))\n",
        "\n",
        "if a < b:\n",
        "  print('Valor Maior: %.f' % b)\n",
        "elif a > b:\n",
        "  print('Valor Maior: %.f' % a)\n",
        "elif a < c:\n",
        "  print('Valor Maior: %.f' % c)\n",
        "elif a > c:\n",
        "  print('Valor Maior: %.f' % a)\n",
        "elif b < c:\n",
        "  print('Valor Maior: %.f' % c)\n",
        "elif b > c:\n",
        "  print('Valor Maior: %.f' % b)\n",
        "else:\n",
        "  print('Valores de Mesma Amplitude!')"
      ],
      "execution_count": null,
      "outputs": []
    },
    {
      "cell_type": "markdown",
      "metadata": {
        "id": "fg9AhGoVrXEd"
      },
      "source": [
        "7.Faça um Programa que leia três números e mostre o maior e o menor deles.\n"
      ]
    },
    {
      "cell_type": "code",
      "metadata": {
        "id": "y02-sgIVr0tb"
      },
      "source": [
        "a = float(input('Valor 1:\\n'))\n",
        "b = float(input('Valor 2:\\n'))\n",
        "c = float(input('Valor 3:\\n'))\n",
        "\n",
        "if a < b < c:\n",
        "  print('Valor Maior: %.f' % c)\n",
        "  print('Valor Menor: %.f' % a)\n",
        "elif b < a < c:\n",
        "  print('Valor Maior: %.f' % c)\n",
        "  print('Valor Menor: %.f' % b)\n",
        "elif c < b < a:\n",
        "  print('Valor Maior: %.f' % a)\n",
        "  print('Valor Menor: %.f' % c)\n",
        "elif b < c < a:\n",
        "  print('Valor Maior: %.f' % a)\n",
        "  print('Valor Menor: %.f' % b)\n",
        "else:\n",
        "  print('Valores de Mesma Amplitude!')"
      ],
      "execution_count": null,
      "outputs": []
    },
    {
      "cell_type": "markdown",
      "metadata": {
        "id": "cd7g2KfGwLbZ"
      },
      "source": [
        "8.Faça um programa que pergunte o preço de três produtos e informe qual produto você deve comprar, sabendo que a decisão é sempre pelo mais barato.\n"
      ]
    },
    {
      "cell_type": "code",
      "metadata": {
        "id": "2zcR7LN9wVaJ"
      },
      "source": [
        "P1 = float(input('Preço do Produto 1:\\n'))\n",
        "P2 = float(input('Preço do Produto 2:\\n'))\n",
        "P3 = float(input('Preço do Produto 3:\\n'))\n",
        "\n",
        "if P1 < P2 < P3:\n",
        "  not print('Preço Maior: %.2f' % P3)\n",
        "  print('Compra Sugerida: R$ %.2f' % P1)\n",
        "elif P2 < P1 < P3:\n",
        "  not print('5: %.2f' % P3)\n",
        "  print('Compra Sugerida: R$ %.2f' % P2)\n",
        "elif P3 < P2 < P1:\n",
        "  not print('Preço Maior: %.2f' % P1)\n",
        "  print('Compra Sugerida: R$ %.2f' % P3)\n",
        "elif P2 < P3 < P1:\n",
        "  not print('Preço Maior: %.2f' % P1)\n",
        "  print('Compra Sugerida: R$ %.2f' % P2)\n",
        "else:\n",
        "  print('Todos os Produtos Possuem o Mesmo Valor')"
      ],
      "execution_count": null,
      "outputs": []
    },
    {
      "cell_type": "markdown",
      "metadata": {
        "id": "YCPstocN5NCM"
      },
      "source": [
        "9.Faça um Programa que leia três números e mostre-os em ordem decrescente.\n"
      ]
    },
    {
      "cell_type": "code",
      "metadata": {
        "id": "FPfQCcbExEaA"
      },
      "source": [
        "a = float(input('Número 1:\\n'))\n",
        "b = float(input('Número 2:\\n'))\n",
        "c = float(input('Número 3:\\n'))\n",
        "\n",
        "if a < b < c:\n",
        "  print(c, b, a)\n",
        "elif b < a < c:\n",
        "  print(c, a, b)\n",
        "elif b < c < a:\n",
        "  print(a, c, b)\n",
        "elif b < a < c:\n",
        "  print(c, a, b)\n",
        "elif a < c < b:\n",
        "  print(b, c, a)\n",
        "elif c < a < b:\n",
        "  print(b, a, c)\n",
        "else:\n",
        "  print('2 ou 3 Números São Idênticos!')"
      ],
      "execution_count": null,
      "outputs": []
    },
    {
      "cell_type": "markdown",
      "metadata": {
        "id": "hGaVZ8MQxrxe"
      },
      "source": [
        "* *Solução Alternativa*\n",
        "\n"
      ]
    },
    {
      "cell_type": "code",
      "metadata": {
        "id": "QUZBsBsj5TbB"
      },
      "source": [
        "a = float(input('Número 1:\\n'))\n",
        "b = float(input('Número 2:\\n'))\n",
        "c = float(input('Número 3:\\n'))\n",
        "\n",
        "lista = []\n",
        "lista.append(round(a, 1))\n",
        "lista.append(round(b, 1))\n",
        "lista.append(round(c, 1))\n",
        "lista.sort(reverse = True)\n",
        "print(lista)"
      ],
      "execution_count": null,
      "outputs": []
    },
    {
      "cell_type": "markdown",
      "metadata": {
        "id": "hKh2FOutxAG1"
      },
      "source": [
        "10.Faça um Programa que pergunte em que turno você estuda. Peça para digitar M-matutino ou V-Vespertino ou N- Noturno. Imprima a mensagem \"Bom Dia!\", \"Boa Tarde!\" ou \"Boa Noite!\" ou \"Valor Inválido!\", conforme o caso.\n"
      ]
    },
    {
      "cell_type": "code",
      "metadata": {
        "id": "crQ15HixBbhk"
      },
      "source": [
        "turno = str(input('Qual turno você estuda?:\\n'))\n",
        "\n",
        "if turno == 'M':\n",
        "  print('Bom Dia!')\n",
        "elif turno == 'V':\n",
        "  print('Boa Tarde!')\n",
        "elif turno == 'N':\n",
        "  print('Boa Noite!') \n",
        "else:\n",
        "  print('Valor Inválido!')"
      ],
      "execution_count": null,
      "outputs": []
    },
    {
      "cell_type": "markdown",
      "metadata": {
        "id": "lR00izaLoa45"
      },
      "source": [
        "11.As Organizações Tabajara resolveram dar um aumento de salário aos seus colaboradores e lhe contraram para desenvolver o programa que calculará os reajustes.\n",
        "Faça um programa que recebe o salário de um colaborador e o reajuste segundo o seguinte critério, baseado no salário atual:\n",
        "\n",
        "* Salários até R$ 280,00 (incluindo) : aumento de 20%\n",
        "\n",
        "* Salários entre R$ 280,00 e R$ 700,00 : aumento de 15%\n",
        "\n",
        "* Salários entre R$ 700,00 e R$ 1500,00 : aumento de 10%\n",
        "\n",
        "* Salários de R$ 1500,00 em diante : aumento de 5% Após o aumento ser realizado, informe na tela:\n",
        "\n",
        "* O salário antes do reajuste;\n",
        "\n",
        "* O percentual de aumento aplicado;\n",
        "\n",
        "* O valor do aumento;\n",
        "\n",
        "* O novo salário, após o aumento.\n",
        "\n",
        "\n",
        "\n"
      ]
    },
    {
      "cell_type": "code",
      "metadata": {
        "id": "iC24MXN0k6Cl"
      },
      "source": [
        "salário = int(input('Salário do Colaborador:\\n'))\n",
        "\n",
        "if salário <= 280:\n",
        "  reajuste_perc = 20\n",
        "elif 280 < salário <= 700:\n",
        "  reajuste_perc = 15\n",
        "elif 700 < s <= 1500:\n",
        "  reajuste_perc = 10\n",
        "elif s > 1500:\n",
        "  reajuste_perc = 5\n",
        "\n",
        "reajuste = round(((reajuste_perc / 100) * salário), None)\n",
        "salário_reaj = salário + reajuste\n",
        "\n",
        "print('Salário do Colaborador: R$', salário)\n",
        "print('Reajuste:', reajuste_perc, '%')\n",
        "print('Reajuste: R$', reajuste)\n",
        "print('Salário Reajustado: R$', salário_reaj)"
      ],
      "execution_count": null,
      "outputs": []
    },
    {
      "cell_type": "markdown",
      "metadata": {
        "id": "md_XZyJitHbk"
      },
      "source": [
        "12.Faça um programa para o cálculo de uma folha de pagamento, sabendo que os descontos são do Imposto de Renda, que depende do salário bruto (conforme tabela abaixo) e 3% para o Sindicato e que o FGTS corresponde a 11% do Salário Bruto, mas não é descontado (é a empresa que deposita). O Salário Líquido corresponde ao Salário Bruto menos os descontos. O programa deverá pedir ao usuário o valor da sua hora e a quantidade de horas trabalhadas no mês.\n",
        "\n",
        "Desconto do IR:\n",
        "\n",
        "- Salário Bruto até 900 (inclusive) - isento\n",
        "\n",
        "- Salário Bruto até 1500 (inclusive) - desconto de 5%\n",
        "\n",
        "- Salário Bruto até 2500 (inclusive) - desconto de 10%\n",
        "\n",
        "- Salário Bruto acima de 2500 - desconto de 20% \n",
        "\n",
        "Imprima na tela as informações, dispostas conforme o exemplo abaixo. No exemplo o valor da hora é 5 e a quantidade de hora é 220.\n",
        "\n",
        "        Salário Bruto: (5 * 220)        : R$ 1100,00\n",
        "        (-) IR (5%)                     : R$   55,00  \n",
        "        (-) INSS ( 10%)                 : R$  110,00\n",
        "        FGTS (11%)                      : R$  121,00\n",
        "        Total de descontos              : R$  165,00\n",
        "        Salário Liquido                 : R$  935,00"
      ]
    },
    {
      "cell_type": "code",
      "metadata": {
        "id": "a2WWxA3qt4Kh"
      },
      "source": [
        "salário_hora = float(input('Salário / Hora (R$):\\n'))\n",
        "horas_mês = float(input('Horas / Mês:\\n'))\n",
        "salário_bruto = salário_hora * horas_mês\n",
        "desc_inss = ((10 / 100) * salário_bruto)\n",
        "desc_sind = ((3 / 100) * salário_bruto)\n",
        "fgts = ((11 / 100) * salário_bruto)\n",
        "desc = desc_inss + desc_ir + desc_sind\n",
        "salário_líquido = salário_bruto - desc\n",
        "\n",
        "if salário_bruto <= 900:\n",
        "  desc_ir = 0\n",
        "  print('IR Isento')\n",
        "elif 900 < salário_bruto <= 1500:\n",
        "  desc_ir = ((5 / 100) * salário_bruto)\n",
        "  print('Salário Bruto: R$ %.2f' % salário_bruto)\n",
        "  print('(-) IR: R$ %.2f' % desc_ir) \n",
        "  print('(-) INSS: R$ %.2f' % desc_inss)\n",
        "  print('(-) Sindicato: R$ %.2f' % desc_sind)\n",
        "  print('FGTS: R$ %.2f' % fgts)\n",
        "  print('Descontos: R$ %.2f' % desc)\n",
        "  print('Salário Líquido: R$ %.2f' % salário_líquido)\n",
        "elif 1500 < salário_bruto <= 2500:\n",
        "  desc_ir = ((10 / 100) * salário_bruto)\n",
        "  print('Salário Bruto: R$ %.2f' % salário_bruto)\n",
        "  print('(-) IR: R$ %.2f' % desc_ir)\n",
        "  print('(-) INSS: R$ %.2f' % desc_inss)\n",
        "  print('(-) Sindicato: R$ %.2f' % desc_sind)\n",
        "  print('FGTS: R$ %.2f' % fgts)\n",
        "  print('Descontos: R$ %.2f' % desc)\n",
        "  print('Salário Líquido: R$ %.2f' % salário_líquido)\n",
        "elif salário_bruto > 2500:\n",
        "  desc_ir = ((20 / 100) * salário_bruto)\n",
        "  print('Salário Bruto: R$ %.2f' % salário_bruto)\n",
        "  print('(-) IR: R$ %.2f' % desc_ir)\n",
        "  print('(-) INSS: R$ %.2f' % desc_inss)\n",
        "  print('(-) Sindicato: R$ %.2f' % desc_sind)\n",
        "  print('FGTS: R$ %.2f' % fgts)\n",
        "  print('Descontos: R$ %.2f' % desc)\n",
        "  print('Salário Líquido: R$ %.2f' % salário_líquido)"
      ],
      "execution_count": null,
      "outputs": []
    },
    {
      "cell_type": "markdown",
      "metadata": {
        "id": "WJPAAh2gtEcB"
      },
      "source": [
        "13.Faça um Programa que leia um número e exiba o dia correspondente da semana. (1-Domingo, 2- Segunda, etc.), se digitar outro valor deve aparecer valor inválido."
      ]
    },
    {
      "cell_type": "code",
      "metadata": {
        "id": "uckNJN7BtH5F"
      },
      "source": [
        "número = int(input('Digite o Número:\\n'))\n",
        "\n",
        "if número == 1:\n",
        "  print('1-Domingo')\n",
        "elif número == 2:\n",
        "  print('2-Segunda')\n",
        "elif número == 3:\n",
        "  print('3-Terça')\n",
        "elif número == 4:\n",
        "  print('4-Quarta')\n",
        "elif número == 5:\n",
        "  print('5-Quinta')\n",
        "elif número == 6:\n",
        "  print('6-Sexta')\n",
        "elif número == 7:\n",
        "  print('7-Sábado')\n",
        "else:\n",
        "  print('Valor Inválido')"
      ],
      "execution_count": null,
      "outputs": []
    },
    {
      "cell_type": "markdown",
      "metadata": {
        "id": "h46Zz8QTwSD6"
      },
      "source": [
        "14.Faça um programa que lê as duas notas parciais obtidas por um aluno numa disciplina ao longo de um semestre, e calcule a sua média. A atribuição de conceitos obedece à tabela abaixo:\n",
        "\n",
        "![image.png](data:image/png;base64,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)\n",
        "\n",
        "O algoritmo deve mostrar na tela as notas, a média, o conceito correspondente e a mensagem “APROVADO” se o conceito for A, B ou C ou “REPROVADO” se o conceito for D ou E.\n"
      ]
    },
    {
      "cell_type": "code",
      "metadata": {
        "id": "I2DCLeeKx4GN"
      },
      "source": [
        "nota_1 = float(input('Nota P1:\\n'))\n",
        "nota_2 = float(input('Nota P2:\\n'))\n",
        "média = (nota_1 + nota_2) / 2\n",
        "\n",
        "if 9 <= média <= 10:\n",
        "  conceito = 'A'\n",
        "  situação = 'APROVADO'\n",
        "elif 7.5 <= média < 9:\n",
        "  conceito = 'B'\n",
        "  situação = 'APROVADO'\n",
        "elif 6 <= média < 7.5:\n",
        "  conceito = 'C'\n",
        "  situação = 'APROVADO'\n",
        "elif 4 <= média < 6:\n",
        "  conceito = 'D'\n",
        "  situação = 'REPROVADO'\n",
        "elif 4 <= média < 0:\n",
        "  conceito = 'E'\n",
        "  situação = 'REPROVADO'\n",
        "\n",
        "print('Nota 1:', nota_1)\n",
        "print('Nota 2:', nota_2)\n",
        "print('Média:', média)\n",
        "print('Conceito:', conceito)\n",
        "print('Situação:', situação)"
      ],
      "execution_count": null,
      "outputs": []
    },
    {
      "cell_type": "markdown",
      "metadata": {
        "id": "Bm1hbmXp1Il6"
      },
      "source": [
        "15.Faça um Programa que peça os 3 lados de um triângulo. O programa deverá informar se os valores podem ser um triângulo. Indique, caso os lados formem um triângulo, se o mesmo é: equilátero, isósceles ou escaleno. Dicas:\n",
        "\n",
        "- Três lados formam um triângulo quando a soma de quaisquer dois lados for maior que o terceiro;\n",
        "\n",
        "- Triângulo Equilátero: três lados iguais;\n",
        "\n",
        "- Triângulo Isósceles: quaisquer dois lados iguais;\n",
        "\n",
        "- Triângulo Escaleno: três lados diferentes;\n"
      ]
    },
    {
      "cell_type": "code",
      "metadata": {
        "id": "RVPDejtH17j2"
      },
      "source": [
        "lado_1 = float(input('Lado 1:\\n'))\n",
        "lado_2 = float(input('Lado 2:\\n'))\n",
        "lado_3 = float(input('Lado 3:\\n'))\n",
        "\n",
        "if lado_1 == lado_2 == lado_3 == 0:\n",
        "  print('Valores não formam um Triângulo!')\n",
        "elif lado_1 == lado_2 == lado_3:\n",
        "  print('Triângulo Equilátero')\n",
        "elif lado_1 == lado_2 or lado_1 == lado_3 or lado_2 == lado_3:\n",
        "  print('Triângulo Isósceles')\n",
        "else:\n",
        "  print('Triângulo Escaleno')"
      ],
      "execution_count": null,
      "outputs": []
    },
    {
      "cell_type": "markdown",
      "metadata": {
        "id": "bsCRrZM9miE8"
      },
      "source": [
        "16.Faça um programa que calcule as raízes de uma equação do segundo grau, na forma ax² + bx + c. O programa deverá pedir os valores de a, b e c e fazer as consistências, informando ao usuário nas seguintes situações:\n",
        "\n",
        "* Se o usuário informar o valor de A igual a zero, a equação não é do segundo grau e o programa não deve fazer pedir os demais valores, sendo encerrado;\n",
        "\n",
        "* Se o delta calculado for negativo, a equação não possui raizes reais. Informe ao usuário e encerre o programa;\n",
        "\n",
        "* Se o delta calculado for igual a zero a equação possui apenas uma raiz real. Informe-a ao usuário;\n",
        "\n",
        "* Se o delta for positivo, a equação possui duas raiz reais. Informe-as ao usuário;"
      ]
    },
    {
      "cell_type": "code",
      "metadata": {
        "id": "BkBn6WH8nLU4"
      },
      "source": [
        "import math\n",
        "\n",
        "print('Equação ou Polinômio do 2° Grau: ax² + bx + c')\n",
        "\n",
        "a = float(input('Valor de a:\\n'))\n",
        "\n",
        "if a == 0:\n",
        "  print('O Polinômio não é do 2° Grau.')\n",
        "else:\n",
        "  b = float(input('Valor de b:\\n'))\n",
        "  c = float(input('Valor de c:\\n'))\n",
        "  delta = (b ** 2) - (4 * a * c)\n",
        "  if delta < 0:\n",
        "    print('Polinômio não possui Raízes Reais')\n",
        "  elif delta == 0:\n",
        "    x = - b / (2 * a)\n",
        "    print('O Polinômio possui 1 Raíz Real:', x)\n",
        "  else:\n",
        "    x1 = (- b + math.sqrt(delta)) / (2 * a)\n",
        "    x2 = (- b - math.sqrt(delta)) / (2 * a)\n",
        "    print('O Polinômio possui 2 Raízes Reais:', x1, 'e', x2)"
      ],
      "execution_count": null,
      "outputs": []
    },
    {
      "cell_type": "markdown",
      "metadata": {
        "id": "xYOr9haf_5sh"
      },
      "source": [
        "17.Faça um Programa que peça um número correspondente a um determinado ano e em seguida informe se este ano é ou não bissexto.\n"
      ]
    },
    {
      "cell_type": "code",
      "metadata": {
        "id": "cLsrvOxe__Qb"
      },
      "source": [
        "ano = int(input('Ano:\\n'))\n",
        "\n",
        "if ano % 4 == 0:\n",
        "  print('Ano Bissexto')\n",
        "else:\n",
        "  print('Ano Não Bissexto')"
      ],
      "execution_count": null,
      "outputs": []
    },
    {
      "cell_type": "markdown",
      "metadata": {
        "id": "wjJddn7JmFWR"
      },
      "source": [
        "18.Faça um Programa que peça uma data no formato dd/mm/aaaa e determine se a mesma é uma data válida."
      ]
    },
    {
      "cell_type": "code",
      "metadata": {
        "id": "P7CeDyBvmZ3P"
      },
      "source": [
        "dd = int(input('Dia (dd):\\n'))\n",
        "mm = int(input('Mês (mm):\\n'))\n",
        "aaaa = int(input('Ano (aaaa):\\n'))\n",
        "print('%02d' % dd,'/','%02d' % mm,'/',aaaa)\n",
        "\n",
        "if (mm == 1 or mm == 3 or mm == 5 or mm == 7 or mm == 8 or mm == 10 or mm == 12) \\\n",
        "    and (1 <= dd <= 31):\n",
        "  print('Data Válida')\n",
        "elif (mm == 4 or mm == 6 or mm == 9 or mm == 11) and (1 <= dd <= 30):\n",
        "  print('Data Válida')\n",
        "elif (mm == 2) and (1 <= dd <= 29) and (aaaa % 4 == 0):\n",
        "  print('Data Válida')\n",
        "elif (1 <= dd <= 28):\n",
        "  print('Data Válida')\n",
        "else:\n",
        "  print('Data Inválida')\n",
        "\n",
        "\"\"\" Na linha 4, adotei \"'%02d'\" para inserir 1 zero à esquerda no formato do dia e do mẽs. \"\"\""
      ],
      "execution_count": null,
      "outputs": []
    }
  ]
}
{
  "nbformat": 4,
  "nbformat_minor": 0,
  "metadata": {
    "colab": {
      "name": "Python Brasil.ipynb",
      "provenance": [],
      "authorship_tag": "ABX9TyOui2OX7YBSL9Fls695m8w8",
      "include_colab_link": true
    },
    "kernelspec": {
      "name": "python3",
      "display_name": "Python 3"
    },
    "language_info": {
      "name": "python"
    }
  },
  "cells": [
    {
      "cell_type": "markdown",
      "metadata": {
        "id": "view-in-github",
        "colab_type": "text"
      },
      "source": [
        "<a href=\"https://colab.research.google.com/github/natan20200679/Python/blob/master/Python_Brasil.ipynb\" target=\"_parent\"><img src=\"https://colab.research.google.com/assets/colab-badge.svg\" alt=\"Open In Colab\"/></a>"
      ]
    },
    {
      "cell_type": "markdown",
      "metadata": {
        "id": "0iGZEWM8cdBW"
      },
      "source": [
        "***Estrutura Sequêncial***"
      ]
    },
    {
      "cell_type": "markdown",
      "metadata": {
        "id": "fUZawB1gc_-H"
      },
      "source": [
        "- Faça um Programa que mostre a mensagem \"Alo mundo\" na tela.\n"
      ]
    },
    {
      "cell_type": "code",
      "metadata": {
        "id": "s7lQVDumcNYW",
        "colab": {
          "base_uri": "https://localhost:8080/"
        },
        "outputId": "d905b8cb-e351-42d5-ea53-29efd6daafaf"
      },
      "source": [
        "print(\"Alo mundo\")"
      ],
      "execution_count": null,
      "outputs": [
        {
          "output_type": "stream",
          "text": [
            "Alo mundo\n"
          ],
          "name": "stdout"
        }
      ]
    },
    {
      "cell_type": "markdown",
      "metadata": {
        "id": "buLqEua3dPp1"
      },
      "source": [
        "- Faça um Programa que peça um número e então mostre a mensagem o número informado foi [número].\n",
        "\n"
      ]
    },
    {
      "cell_type": "code",
      "metadata": {
        "id": "-uulB8feeG6R"
      },
      "source": [
        "n = input(\"Número?\\n\")\n",
        "print(\"O número informado foi\", n)"
      ],
      "execution_count": null,
      "outputs": []
    },
    {
      "cell_type": "markdown",
      "metadata": {
        "id": "65sujXB_8G4u"
      },
      "source": [
        "- Faça um Programa que peça dois números e imprima a soma."
      ]
    },
    {
      "cell_type": "code",
      "metadata": {
        "id": "PKh9SPWO8LTw"
      },
      "source": [
        "a = int(input('Digite o primeiro número\\n'))\n",
        "b = int(input('Digite o segundo número\\n'))\n",
        "soma = a + b\n",
        "print('A soma dos 2 números é:', soma)"
      ],
      "execution_count": null,
      "outputs": []
    },
    {
      "cell_type": "markdown",
      "metadata": {
        "id": "5Vu6kkmCaxnr"
      },
      "source": [
        "- Faça um Programa que peça as 4 notas bimestrais e mostre a média."
      ]
    },
    {
      "cell_type": "code",
      "metadata": {
        "id": "qwu-yAbabHzy"
      },
      "source": [
        "a = float(input('Digite a nota P1\\n'))\n",
        "b = float(input('Digite a nota P2\\n'))\n",
        "c = float(input('Digite a nota P3\\n'))\n",
        "d = float(input('Digite a nota P4\\n'))\n",
        "média = (a + b + c + d) / 4\n",
        "print(\"Média Bimestral\", média)"
      ],
      "execution_count": null,
      "outputs": []
    },
    {
      "cell_type": "markdown",
      "metadata": {
        "id": "KG36XqI6e5zW"
      },
      "source": [
        "- Faça um Programa que converta metros para centímetros.\n"
      ]
    },
    {
      "cell_type": "code",
      "metadata": {
        "id": "7xa9HEAZe8rp"
      },
      "source": [
        "a = float(input('Digite o valor em metros\\n'))\n",
        "conv = float(a * 100)\n",
        "print('O valor digitado em cm é:', conv)"
      ],
      "execution_count": null,
      "outputs": []
    },
    {
      "cell_type": "markdown",
      "metadata": {
        "id": "Gbs_F0V0ryW4"
      },
      "source": [
        "- Faça um Programa que peça o raio de um círculo, calcule e mostre sua área.\n"
      ]
    },
    {
      "cell_type": "code",
      "metadata": {
        "id": "LrC6xgY_r84g"
      },
      "source": [
        "import math\n",
        "a = float(input('Digite o valor do raio do círculo\\n'))\n",
        "S = float(math.pi * a ** 2)\n",
        "print('O valor da área do círculo é:', round(S, 2)) \n",
        "\n",
        "\"\"\" Neste caso, escolhi arredondar o valor de 'S' em 2 casas decimais usando 'round'. \"\"\""
      ],
      "execution_count": null,
      "outputs": []
    },
    {
      "cell_type": "markdown",
      "metadata": {
        "id": "gVIYl1DQAM8K"
      },
      "source": [
        "- Faça um Programa que calcule a área de um quadrado, em seguida mostre o dobro desta área para o usuário.\n"
      ]
    },
    {
      "cell_type": "code",
      "metadata": {
        "id": "oSxTNg7pAtbX"
      },
      "source": [
        "l = float(input('Digite o valor do lado do quadrado\\n'))\n",
        "S = float(l ** 2)\n",
        "print('O valor do dobro da área do quadrado é:', round(2 * S, 2)) \n",
        "\n",
        "\"\"\" Neste caso, escolhi arredondar o valor de '2 * S' em 2 casas decimais usando 'round'. \"\"\""
      ],
      "execution_count": null,
      "outputs": []
    },
    {
      "cell_type": "markdown",
      "metadata": {
        "id": "qqffXJ5RB9AJ"
      },
      "source": [
        "- Faça um Programa que pergunte quanto você ganha por hora e o número de horas trabalhadas no mês. Calcule e mostre o total do seu salário no referido mês.\n"
      ]
    },
    {
      "cell_type": "code",
      "metadata": {
        "id": "nX0DWG_TCE8x"
      },
      "source": [
        "ganho_hora = float(input('Quanto você ganha por hora trabalhada?\\n'))\n",
        "horas_mês = int(input('Quantas horas você trabalha num mẽs?\\n'))\n",
        "salário_mês = float(ganho_hora * horas_mês)\n",
        "print(f'O seu salário num mês é: R$ %.2f' % salário_mês) \n",
        "\n",
        "\"\"\" Neste caso, escolhi determinar o valor de 'salário_mês' com 2 casas decimais usando o argumento de string '%.<número de casas decimais>f. \"\"\""
      ],
      "execution_count": null,
      "outputs": []
    }
  ]
}
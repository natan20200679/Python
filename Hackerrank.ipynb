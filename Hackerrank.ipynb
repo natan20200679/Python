{
  "nbformat": 4,
  "nbformat_minor": 0,
  "metadata": {
    "colab": {
      "name": "Hackerrank.ipynb",
      "provenance": [],
      "collapsed_sections": [],
      "authorship_tag": "ABX9TyPdhwNQVw3WLpxdiR6XhfjN",
      "include_colab_link": true
    },
    "kernelspec": {
      "name": "python3",
      "display_name": "Python 3"
    },
    "language_info": {
      "name": "python"
    }
  },
  "cells": [
    {
      "cell_type": "markdown",
      "metadata": {
        "id": "view-in-github",
        "colab_type": "text"
      },
      "source": [
        "<a href=\"https://colab.research.google.com/github/natan20200679/Python/blob/master/Hackerrank.ipynb\" target=\"_parent\"><img src=\"https://colab.research.google.com/assets/colab-badge.svg\" alt=\"Open In Colab\"/></a>"
      ]
    },
    {
      "cell_type": "markdown",
      "metadata": {
        "id": "0t-UGuIxt0O2"
      },
      "source": [
        "***Practice Python***"
      ]
    },
    {
      "cell_type": "markdown",
      "metadata": {
        "id": "HpWAjfu6rPtc"
      },
      "source": [
        "Python If-Else\n",
        "\n",
        "Dado um número inteiro,, execute as seguintes ações condicionais:\n",
        "\n",
        "Se n é ímpar, imprima Weird\n",
        "Se n é par e está inclúido no range de 2 à 5, imprima Not Weird\n",
        "Se n é par e está inclúido no range de 6 à 20, imprima Weird\n",
        "Se n é par e maior do que 20, imprima Not Weird"
      ]
    },
    {
      "cell_type": "code",
      "metadata": {
        "id": "aFvuvQfknwrT"
      },
      "source": [
        "if __name__ == '__main__':\n",
        "    n = int(input().strip())\n",
        "    if n % 2 == 1:\n",
        "      print('weird')\n",
        "    elif n % 2 == 0 and 2 <= n <= 5:\n",
        "      print('not weird')\n",
        "    elif n % 2 == 0 and 6 <= n <= 20:\n",
        "      print('weird')\n",
        "    else:\n",
        "      print('not weird')"
      ],
      "execution_count": null,
      "outputs": []
    },
    {
      "cell_type": "markdown",
      "metadata": {
        "id": "cfJMMPnArUnG"
      },
      "source": [
        "Loops\n",
        "\n",
        "Imprima o quadrado de cada número i em linha separada. No dado de entrada, a primeira e única linha contém o inteiro n, 1<=n<=20. Imprima n linhas, em que uma corresponda a cada i^2."
      ]
    },
    {
      "cell_type": "code",
      "metadata": {
        "id": "GD456-NeBx81"
      },
      "source": [
        "if __name__ == '__main__':\n",
        "    n = int(input())\n",
        "    i = 0\n",
        "    while i < n:\n",
        "        print(i**2)\n",
        "        i += 1\n"
      ],
      "execution_count": null,
      "outputs": []
    }
  ]
}
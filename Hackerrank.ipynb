{
  "nbformat": 4,
  "nbformat_minor": 0,
  "metadata": {
    "colab": {
      "name": "Hackerrank.ipynb",
      "provenance": [],
      "collapsed_sections": [],
      "authorship_tag": "ABX9TyOqCnBmcBC9i+eV8B4GkfxS",
      "include_colab_link": true
    },
    "kernelspec": {
      "name": "python3",
      "display_name": "Python 3"
    },
    "language_info": {
      "name": "python"
    }
  },
  "cells": [
    {
      "cell_type": "markdown",
      "metadata": {
        "id": "view-in-github",
        "colab_type": "text"
      },
      "source": [
        "<a href=\"https://colab.research.google.com/github/natan20200679/Python/blob/master/Hackerrank.ipynb\" target=\"_parent\"><img src=\"https://colab.research.google.com/assets/colab-badge.svg\" alt=\"Open In Colab\"/></a>"
      ]
    },
    {
      "cell_type": "markdown",
      "metadata": {
        "id": "0t-UGuIxt0O2"
      },
      "source": [
        "***Practice Python***"
      ]
    },
    {
      "cell_type": "markdown",
      "metadata": {
        "id": "bj32hoDDyXt8"
      },
      "source": [
        "Print Function\n",
        "\n",
        "Sem usar qualquer método de string, tente imprimir a sequência 123...n sem espaços, onde no dado de entrada, a primeira e única linha contém o inteiro n, 1<=n<=150, que corresponde ao tamanho da sequência unida de valores inteiros, positivos e consecutivos."
      ]
    },
    {
      "cell_type": "code",
      "metadata": {
        "id": "fCFf3cChaL7m"
      },
      "source": [
        "if __name__ == '__main__':\n",
        "  n = int(input()) \n",
        "  if 1<=n<=150:\n",
        "    for i in range(1, n+1): \n",
        "      print(i, end='')"
      ],
      "execution_count": null,
      "outputs": []
    },
    {
      "cell_type": "markdown",
      "metadata": {
        "id": "cfJMMPnArUnG"
      },
      "source": [
        "Loops\n",
        "\n",
        "Imprima o quadrado de cada número i em linha separada. No dado de entrada, a primeira e única linha contém o inteiro n, 1<=n<=20. Imprima n linhas, em que uma corresponda a cada i^2."
      ]
    },
    {
      "cell_type": "code",
      "metadata": {
        "id": "GD456-NeBx81"
      },
      "source": [
        "if __name__ == '__main__':\n",
        "    n = int(input())\n",
        "    if 1<=n<=20:\n",
        "      i = 0\n",
        "      while i < n:\n",
        "        print(i**2)\n",
        "        i += 1"
      ],
      "execution_count": null,
      "outputs": []
    },
    {
      "cell_type": "markdown",
      "metadata": {
        "id": "HpWAjfu6rPtc"
      },
      "source": [
        "Python If-Else\n",
        "\n",
        "Dado um número inteiro,, execute as seguintes ações condicionais:\n",
        "\n",
        "Se n é ímpar, imprima Weird\n",
        "Se n é par e está inclúido no range de 2 à 5, imprima Not Weird\n",
        "Se n é par e está inclúido no range de 6 à 20, imprima Weird\n",
        "Se n é par e maior do que 20, imprima Not Weird"
      ]
    },
    {
      "cell_type": "code",
      "metadata": {
        "id": "aFvuvQfknwrT"
      },
      "source": [
        "if __name__ == '__main__':\n",
        "    n = int(input().strip())\n",
        "    if n % 2 == 1:\n",
        "      print('weird')\n",
        "    elif n % 2 == 0 and 2 <= n <= 5:\n",
        "      print('not weird')\n",
        "    elif n % 2 == 0 and 6 <= n <= 20:\n",
        "      print('weird')\n",
        "    else:\n",
        "      print('not weird')"
      ],
      "execution_count": null,
      "outputs": []
    },
    {
      "cell_type": "markdown",
      "metadata": {
        "id": "d_LuxRdAywvZ"
      },
      "source": [
        "Lists\n",
        "\n",
        "Considere uma lista. Podem ser executados os seguintes comandos: \n",
        "\n",
        "insert(i,e): Inserir inteiro e na posição i.\n",
        "\n",
        "print(var): Imprima a lista.\n",
        "\n",
        "remove(e): Exclua a primeira ocorrência do inteiro e.\n",
        "\n",
        "append(e): Inserir inteiro e no final da lista.\n",
        "\n",
        "sort: Classifique a lista.\n",
        "\n",
        "pop: Pop o último elemento da lista.\n",
        "\n",
        "reverse: Inverta a lista.\n",
        "\n",
        "Inicialize sua lista e leia o valor de n seguido por n linhas de comandos onde cada comando será um dos 7 tipos listados acima. Iteraja cada comando em ordem e execute a operação correspondente em sua lista. A primeira linha contém o inteiro n denotando o número de comandos. Cada linha i das linhas subsequêntes n contém um dos comandos descritos acima."
      ]
    },
    {
      "cell_type": "code",
      "metadata": {
        "id": "_7Wd6iV5y2hP"
      },
      "source": [
        "if __name__ == '__main__':\n",
        "\n",
        "  list = []\n",
        "\n",
        "  for i in range(int(input())):\n",
        "    N = input().split()\n",
        "    for i in range(1,len(N)):\n",
        "      N[i] = int(N[i])\n",
        "        \n",
        "    if N[0] == \"append\":\n",
        "      list.append(N[1])\n",
        "    elif N[0] == \"extend\":    \n",
        "      list.extend(N[1:])\n",
        "    elif N[0] == \"insert\":\n",
        "      list.insert(N[1],N[2])\n",
        "    elif N[0] == \"remove\":\n",
        "      list.remove(N[1])\n",
        "    elif N[0] == \"pop\":\n",
        "      list.pop()\n",
        "    elif N[0] == \"index\":\n",
        "      list.index(N[1])\n",
        "    elif N[0] == \"count\":\n",
        "      list.count(N[1])\n",
        "    elif N[0] == \"sort\":\n",
        "      list.sort()\n",
        "    elif N[0] == \"reverse\":\n",
        "      list.reverse()\n",
        "    else:\n",
        "      N[0] == \"print\"\n",
        "      print(list)"
      ],
      "execution_count": null,
      "outputs": []
    }
  ]
}